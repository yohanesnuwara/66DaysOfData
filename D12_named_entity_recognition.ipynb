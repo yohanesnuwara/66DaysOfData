{
  "nbformat": 4,
  "nbformat_minor": 0,
  "metadata": {
    "colab": {
      "name": "D12_named_entity_recognition.ipynb",
      "provenance": [],
      "collapsed_sections": [],
      "authorship_tag": "ABX9TyOSSHr3PgEdTA4e9mXnDu3o",
      "include_colab_link": true
    },
    "kernelspec": {
      "name": "python3",
      "display_name": "Python 3"
    },
    "language_info": {
      "name": "python"
    }
  },
  "cells": [
    {
      "cell_type": "markdown",
      "metadata": {
        "id": "view-in-github",
        "colab_type": "text"
      },
      "source": [
        "<a href=\"https://colab.research.google.com/github/yohanesnuwara/66DaysOfData/blob/main/D12_named_entity_recognition.ipynb\" target=\"_parent\"><img src=\"https://colab.research.google.com/assets/colab-badge.svg\" alt=\"Open In Colab\"/></a>"
      ]
    },
    {
      "cell_type": "markdown",
      "metadata": {
        "id": "cGFXtUxTFj8n"
      },
      "source": [
        "# Named Entity Recognition with SpaCy"
      ]
    },
    {
      "cell_type": "code",
      "metadata": {
        "id": "VpXuDiYKLr9r"
      },
      "source": [
        "import spacy\n",
        "from spacy import displacy\n",
        "from collections import Counter\n",
        "import en_core_web_sm\n",
        "\n",
        "from bs4 import BeautifulSoup\n",
        "import requests\n",
        "import re"
      ],
      "execution_count": 1,
      "outputs": []
    },
    {
      "cell_type": "markdown",
      "metadata": {
        "id": "MlUeU5MzTSAX"
      },
      "source": [
        "We'll extract information from a website. "
      ]
    },
    {
      "cell_type": "code",
      "metadata": {
        "id": "J-qIy4WmTNjQ"
      },
      "source": [
        "def url_to_string(url):\n",
        "  res = requests.get(url)\n",
        "  html = res.text\n",
        "  soup = BeautifulSoup(html, 'html5lib')\n",
        "  for script in soup([\"script\", \"style\", 'aside']):\n",
        "      script.extract()\n",
        "  return \" \".join(re.split(r'[\\n\\t]+', soup.get_text()))"
      ],
      "execution_count": 2,
      "outputs": []
    },
    {
      "cell_type": "code",
      "metadata": {
        "colab": {
          "base_uri": "https://localhost:8080/"
        },
        "id": "eHJilyZ0PyIa",
        "outputId": "f3bda734-af7d-41fa-a896-7cbac5e5eea3"
      },
      "source": [
        "url = 'https://www.energyvoice.com/oilandgas/middle-east/336817/schlumberger-halliburton-adnoc-drilling-sarb-upper-zakum-contract'\n",
        "\n",
        "ny_bb = url_to_string(url)\n",
        "\n",
        "nlp = en_core_web_sm.load()\n",
        "article = nlp(ny_bb)\n",
        "\n",
        "# Count how many entities in the article\n",
        "len(article.ents)"
      ],
      "execution_count": 4,
      "outputs": [
        {
          "output_type": "execute_result",
          "data": {
            "text/plain": [
              "98"
            ]
          },
          "metadata": {
            "tags": []
          },
          "execution_count": 4
        }
      ]
    },
    {
      "cell_type": "markdown",
      "metadata": {
        "id": "u1Zrd0XoU-6J"
      },
      "source": [
        "Labeling entities."
      ]
    },
    {
      "cell_type": "code",
      "metadata": {
        "colab": {
          "base_uri": "https://localhost:8080/"
        },
        "id": "sZMlr21rQE39",
        "outputId": "7a36939b-32b2-4988-da06-dd6d7a740541"
      },
      "source": [
        "labels = [x.label_ for x in article.ents]\n",
        "Counter(labels)"
      ],
      "execution_count": 5,
      "outputs": [
        {
          "output_type": "execute_result",
          "data": {
            "text/plain": [
              "Counter({'CARDINAL': 6,\n",
              "         'DATE': 2,\n",
              "         'GPE': 14,\n",
              "         'LOC': 7,\n",
              "         'MONEY': 11,\n",
              "         'NORP': 1,\n",
              "         'ORG': 30,\n",
              "         'PERCENT': 2,\n",
              "         'PERSON': 21,\n",
              "         'PRODUCT': 1,\n",
              "         'QUANTITY': 2,\n",
              "         'TIME': 1})"
            ]
          },
          "metadata": {
            "tags": []
          },
          "execution_count": 5
        }
      ]
    },
    {
      "cell_type": "markdown",
      "metadata": {
        "id": "ECcqDI6xVGnW"
      },
      "source": [
        "Print the dominant entity labels."
      ]
    },
    {
      "cell_type": "code",
      "metadata": {
        "colab": {
          "base_uri": "https://localhost:8080/"
        },
        "id": "3AR6krfFQPZ9",
        "outputId": "2c582102-b715-4b36-8b2f-0644557103c6"
      },
      "source": [
        "items = [x.text for x in article.ents]\n",
        "Counter(items).most_common(3)"
      ],
      "execution_count": 6,
      "outputs": [
        {
          "output_type": "execute_result",
          "data": {
            "text/plain": [
              "[('ADNOC', 9), ('Halliburton', 7), ('Schlumberger', 4)]"
            ]
          },
          "metadata": {
            "tags": []
          },
          "execution_count": 6
        }
      ]
    },
    {
      "cell_type": "markdown",
      "metadata": {
        "id": "AguSWKCxVoTh"
      },
      "source": [
        "Print all sentences. "
      ]
    },
    {
      "cell_type": "code",
      "metadata": {
        "colab": {
          "base_uri": "https://localhost:8080/"
        },
        "id": "7eKvr2SwQWMF",
        "outputId": "88fde0b5-44b8-4cdc-f69c-833b32e5de72"
      },
      "source": [
        "sentences = [x for x in article.sents]\n",
        "\n",
        "for i in range(len(sentences)):\n",
        "  print(f'{i}: {sentences[i]}')"
      ],
      "execution_count": 7,
      "outputs": [
        {
          "output_type": "stream",
          "text": [
            "0:  Schlumberger and Halliburton win big as ADNOC dishes out\n",
            "1: $764m deal   Skip Menu Skip to main content Skip to sidebar Skip to footer Social Media Links For Energy Voice Facebook LinkedIn\n",
            "2: Twitter Show Links DC Thomson Business VerticalsAdvertise Newsletter Sign Up\n",
            "3: Account OptionsLogin / Register eEditions Newsletter Preferences\n",
            "4: Update Profile Search Search Login / Register Menu Menu Main NavigationCoronavirus Oil & Gas Africa Americas Asia Australasia\n",
            "5: Europe\n",
            "6: Middle East\n",
            "7: North Sea Norway Renewables/\n",
            "8: Energy Transition Nuclear Wind Solar Wave & Tidal Hydro Hydrogen CCS Biofuels Grid & Retail Storage\n",
            "9: Transport Podcast Opinion Subscribe\n",
            "10: All Sections  \n",
            "11: All Sections MenuCoronavirus Oil & Gas Africa Americas Asia Australasia Europe Middle East North Sea Norway\n",
            "12: Renewables/Energy Transition Nuclear Wind Solar Wave & Tidal Hydro Hydrogen CCS Biofuels Grid & Retail Storage\n",
            "13: Transport Podcast Opinion Subscribe Close Menu Oil & Gas / Middle East Schlumberger and Halliburton win big as ADNOC dishes out\n",
            "14: $764million unified contract ADNOC has dished out a unified drilling contract worth $763.7million, with Schlumberger and Halliburton landing sizeable shares.\n",
            "15: By Allister Thomas 14/07/2021, 11:23 am ©\n",
            "16: ADNOC\n",
            "17: The SARB and Upper Zakum fields are aiming for output of five million barrels per day by 2030.\n",
            "18: Register here for the Energy Voice daily newsletter, bringing you key news and insight from across the global energy landscape.\n",
            "19: Thank you for signing up to our newsletter.\n",
            "20: Something went wrong - please try again later.\n",
            "21: Sign Up ADNOC has dished out a unified drilling contract worth $763.7million, with Schlumberger and Halliburton landing sizeable shares.\n",
            "22: The rigless services work will be carried out across six artificial islands in Abu Dhabi in the Upper Zakum and Sarah Al Razboot\n",
            "23: (SARB) oil fields, supporting plans to expand production to a huge five million barrels per day by 2030.\n",
            "24: Schlumberger has been awarded a share worth $381.1million from ADNOC, while Halliburton is getting a deal worth $153.9m.\n",
            "25: Meanwhile ADNOC Drilling picks up the remaining $228.7million, with the awards unifying several smaller contracts, which the operator said would enable cost savings and a single point of responsibility.\n",
            "26: More than 80% of the award value will flow back into the UAE economy under ADNOC’s in-country value programme.\n",
            "27: Yaser Saeed Almazrouei, ADNOC Upstream executive director, said: “These important awards for integrated rigless services will drive efficiencies of drilling and related services, and optimize costs in our Offshore operations as we ramp up our drilling activities to increase our production capacity and enable gas self-sufficiency for the UAE.\n",
            "28: “The contractors bring best-in-class expertise and technologies with a proven track record in the industry and ADNOC Drilling’s scope reflects its expanded service profile following its successful transformation into a fully integrated drilling services (IDS) company, enabling it to offer its clients start-to-finish well drilling and construction services.\n",
            "29: “Importantly, the high in-country value generated from the awards will stimulate new business opportunities for the private sector and support the UAE’s post-Covid economic growth.”\n",
            "30: The awards cover the six artificial islands of Asseifiya, Ettouk, Al Ghallan, and Umm Al Anbar in the Upper Zakum field and Al Qatia and Bu Sikeen in the SARB field.\n",
            "31: ADNOC said use of the artificial islands provides environmental benefits, particularly in shallow water, with use of land-drilling rigs rather than offshore jack-ups.\n",
            "32: Schlumberger, ADNOC and Halliburton will cover a range of services including coiled tubing, equipment, simulation services and well integrity.\n",
            "33: In 2018, Baker Hughes acquired a 5% stake in ADNOC Drilling which has since completed over 180 integrated drilling services wells, which it said has saved more than $210m through efficiency improvements.\n",
            "34: Recommended for you Petrofac ‘cut off from key markets’ after Adnoc suspension Join the global energy conversation Unlimited web access from just £12.50 per month\n",
            "35: Subscribe Tags Abu Dhabi ADNOC ADNOC\n",
            "36: Drilling Halliburton oil and gas Sarah Al Razboot (SARB)\n",
            "37: Schlumberger UAE Upper Zakum More from Energy Voice Asia Qatar signs 15-year LNG supply pact with Taiwan 08/07/2021\n",
            "38: Middle East Iraq says BP and Lukoil want to sell down oil stakes 05/07/2021\n",
            "39: Asia Lifting of Iran sanctions to spark fight for oil market share in Asia 05/07/2021\n",
            "40: Latest Posts Thailand’s PTT makes $453 million Indian solar bet Woodside puts Scarborough and Pluto LNG stakes up for sale\n",
            "41: AIS Survivex starts redundancy consultation in Aberdeen and Montrose ScotWind – with a day to go, who are the runners and riders?\n",
            "42: Premium Content Targets won’t make net zero happen, skilled people will: Energy Institute BCG:\n",
            "43: Distressed or bankrupt oil firms face $15billion decommissioning costs\n",
            "44: Schlumberger and Halliburton win big as ADNOC dishes out\n",
            "45: $764million unified contract Next Post Follow Energy Voice Facebook LinkedIn\n",
            "46: Twitter More info Contact Home Terms & Conditions Privacy Policy Cookie Policy Cookie Preferences\n",
            "47: DC Thomson Media\n",
            "48: The Press and Journal\n",
            "49: The Courier Evening Express Evening Telegraph\n",
            "50: The Sunday Post Energy Voice DCT Media Logo © Energy Voice 2021.\n",
            "51: All Rights Reserved.\n",
            "52: Breaking\n"
          ],
          "name": "stdout"
        }
      ]
    },
    {
      "cell_type": "markdown",
      "metadata": {
        "id": "tc6ugabAnKLz"
      },
      "source": [
        "Take one sentence example and get the entities."
      ]
    },
    {
      "cell_type": "code",
      "metadata": {
        "colab": {
          "base_uri": "https://localhost:8080/"
        },
        "id": "yZr1VVDgMBsv",
        "outputId": "b693d2ff-a073-4319-be9b-177a36891917"
      },
      "source": [
        "nlp = en_core_web_sm.load()\n",
        "\n",
        "doc = nlp(str(sentences[14]))\n",
        "print([(X.text, X.label_) for X in doc.ents])"
      ],
      "execution_count": 14,
      "outputs": [
        {
          "output_type": "stream",
          "text": [
            "[('ADNOC', 'ORG'), ('763.7million', 'MONEY'), ('Schlumberger', 'ORG'), ('Halliburton', 'PERSON')]\n"
          ],
          "name": "stdout"
        }
      ]
    },
    {
      "cell_type": "markdown",
      "metadata": {
        "id": "gQEf7QfQn7vE"
      },
      "source": [
        "Rendering the sentence."
      ]
    },
    {
      "cell_type": "code",
      "metadata": {
        "colab": {
          "base_uri": "https://localhost:8080/",
          "height": 106
        },
        "id": "EwzC2jbOR1BR",
        "outputId": "78c0c222-a21b-4b90-c8bc-5da54a4e9ee8"
      },
      "source": [
        "displacy.render(nlp(str(sentences[14])), jupyter=True, style='ent')"
      ],
      "execution_count": 8,
      "outputs": [
        {
          "output_type": "display_data",
          "data": {
            "text/html": [
              "<span class=\"tex2jax_ignore\"><div class=\"entities\" style=\"line-height: 2.5; direction: ltr\">$764million unified contract \n",
              "<mark class=\"entity\" style=\"background: #7aecec; padding: 0.45em 0.6em; margin: 0 0.25em; line-height: 1; border-radius: 0.35em;\">\n",
              "    ADNOC\n",
              "    <span style=\"font-size: 0.8em; font-weight: bold; line-height: 1; border-radius: 0.35em; text-transform: uppercase; vertical-align: middle; margin-left: 0.5rem\">ORG</span>\n",
              "</mark>\n",
              " has dished out a unified drilling contract worth $\n",
              "<mark class=\"entity\" style=\"background: #e4e7d2; padding: 0.45em 0.6em; margin: 0 0.25em; line-height: 1; border-radius: 0.35em;\">\n",
              "    763.7million\n",
              "    <span style=\"font-size: 0.8em; font-weight: bold; line-height: 1; border-radius: 0.35em; text-transform: uppercase; vertical-align: middle; margin-left: 0.5rem\">MONEY</span>\n",
              "</mark>\n",
              ", with \n",
              "<mark class=\"entity\" style=\"background: #7aecec; padding: 0.45em 0.6em; margin: 0 0.25em; line-height: 1; border-radius: 0.35em;\">\n",
              "    Schlumberger\n",
              "    <span style=\"font-size: 0.8em; font-weight: bold; line-height: 1; border-radius: 0.35em; text-transform: uppercase; vertical-align: middle; margin-left: 0.5rem\">ORG</span>\n",
              "</mark>\n",
              " and \n",
              "<mark class=\"entity\" style=\"background: #aa9cfc; padding: 0.45em 0.6em; margin: 0 0.25em; line-height: 1; border-radius: 0.35em;\">\n",
              "    Halliburton\n",
              "    <span style=\"font-size: 0.8em; font-weight: bold; line-height: 1; border-radius: 0.35em; text-transform: uppercase; vertical-align: middle; margin-left: 0.5rem\">PERSON</span>\n",
              "</mark>\n",
              " landing sizeable shares.</div></span>"
            ],
            "text/plain": [
              "<IPython.core.display.HTML object>"
            ]
          },
          "metadata": {
            "tags": []
          }
        }
      ]
    },
    {
      "cell_type": "markdown",
      "metadata": {
        "id": "er1-dV4Bn9pZ"
      },
      "source": [
        "Take other examples."
      ]
    },
    {
      "cell_type": "code",
      "metadata": {
        "colab": {
          "base_uri": "https://localhost:8080/",
          "height": 86
        },
        "id": "j7Z67xOOSDtn",
        "outputId": "7b1cd2d3-cbf4-4e53-bd34-d0b47a20b085"
      },
      "source": [
        "displacy.render(nlp(str(sentences[26])), jupyter=True, style='ent')"
      ],
      "execution_count": 9,
      "outputs": [
        {
          "output_type": "display_data",
          "data": {
            "text/html": [
              "<span class=\"tex2jax_ignore\"><div class=\"entities\" style=\"line-height: 2.5; direction: ltr\">\n",
              "<mark class=\"entity\" style=\"background: #e4e7d2; padding: 0.45em 0.6em; margin: 0 0.25em; line-height: 1; border-radius: 0.35em;\">\n",
              "    More than 80%\n",
              "    <span style=\"font-size: 0.8em; font-weight: bold; line-height: 1; border-radius: 0.35em; text-transform: uppercase; vertical-align: middle; margin-left: 0.5rem\">PERCENT</span>\n",
              "</mark>\n",
              " of the award value will flow back into the \n",
              "<mark class=\"entity\" style=\"background: #7aecec; padding: 0.45em 0.6em; margin: 0 0.25em; line-height: 1; border-radius: 0.35em;\">\n",
              "    UAE\n",
              "    <span style=\"font-size: 0.8em; font-weight: bold; line-height: 1; border-radius: 0.35em; text-transform: uppercase; vertical-align: middle; margin-left: 0.5rem\">ORG</span>\n",
              "</mark>\n",
              " economy under \n",
              "<mark class=\"entity\" style=\"background: #7aecec; padding: 0.45em 0.6em; margin: 0 0.25em; line-height: 1; border-radius: 0.35em;\">\n",
              "    ADNOC\n",
              "    <span style=\"font-size: 0.8em; font-weight: bold; line-height: 1; border-radius: 0.35em; text-transform: uppercase; vertical-align: middle; margin-left: 0.5rem\">ORG</span>\n",
              "</mark>\n",
              "’s in-country value programme.</div></span>"
            ],
            "text/plain": [
              "<IPython.core.display.HTML object>"
            ]
          },
          "metadata": {
            "tags": []
          }
        }
      ]
    },
    {
      "cell_type": "code",
      "metadata": {
        "colab": {
          "base_uri": "https://localhost:8080/",
          "height": 86
        },
        "id": "diCg82KoRFkK",
        "outputId": "68a63234-8a0f-486a-d24b-a661310da35b"
      },
      "source": [
        "displacy.render(nlp(str(sentences[33])), jupyter=True, style='ent')"
      ],
      "execution_count": 10,
      "outputs": [
        {
          "output_type": "display_data",
          "data": {
            "text/html": [
              "<span class=\"tex2jax_ignore\"><div class=\"entities\" style=\"line-height: 2.5; direction: ltr\">In \n",
              "<mark class=\"entity\" style=\"background: #bfe1d9; padding: 0.45em 0.6em; margin: 0 0.25em; line-height: 1; border-radius: 0.35em;\">\n",
              "    2018\n",
              "    <span style=\"font-size: 0.8em; font-weight: bold; line-height: 1; border-radius: 0.35em; text-transform: uppercase; vertical-align: middle; margin-left: 0.5rem\">DATE</span>\n",
              "</mark>\n",
              ", \n",
              "<mark class=\"entity\" style=\"background: #aa9cfc; padding: 0.45em 0.6em; margin: 0 0.25em; line-height: 1; border-radius: 0.35em;\">\n",
              "    Baker Hughes\n",
              "    <span style=\"font-size: 0.8em; font-weight: bold; line-height: 1; border-radius: 0.35em; text-transform: uppercase; vertical-align: middle; margin-left: 0.5rem\">PERSON</span>\n",
              "</mark>\n",
              " acquired a \n",
              "<mark class=\"entity\" style=\"background: #e4e7d2; padding: 0.45em 0.6em; margin: 0 0.25em; line-height: 1; border-radius: 0.35em;\">\n",
              "    5%\n",
              "    <span style=\"font-size: 0.8em; font-weight: bold; line-height: 1; border-radius: 0.35em; text-transform: uppercase; vertical-align: middle; margin-left: 0.5rem\">PERCENT</span>\n",
              "</mark>\n",
              " stake in \n",
              "<mark class=\"entity\" style=\"background: #7aecec; padding: 0.45em 0.6em; margin: 0 0.25em; line-height: 1; border-radius: 0.35em;\">\n",
              "    ADNOC Drilling\n",
              "    <span style=\"font-size: 0.8em; font-weight: bold; line-height: 1; border-radius: 0.35em; text-transform: uppercase; vertical-align: middle; margin-left: 0.5rem\">ORG</span>\n",
              "</mark>\n",
              " which has since completed \n",
              "<mark class=\"entity\" style=\"background: #e4e7d2; padding: 0.45em 0.6em; margin: 0 0.25em; line-height: 1; border-radius: 0.35em;\">\n",
              "    over 180\n",
              "    <span style=\"font-size: 0.8em; font-weight: bold; line-height: 1; border-radius: 0.35em; text-transform: uppercase; vertical-align: middle; margin-left: 0.5rem\">CARDINAL</span>\n",
              "</mark>\n",
              " integrated drilling services wells, which it said has saved \n",
              "<mark class=\"entity\" style=\"background: #e4e7d2; padding: 0.45em 0.6em; margin: 0 0.25em; line-height: 1; border-radius: 0.35em;\">\n",
              "    more than $210m\n",
              "    <span style=\"font-size: 0.8em; font-weight: bold; line-height: 1; border-radius: 0.35em; text-transform: uppercase; vertical-align: middle; margin-left: 0.5rem\">MONEY</span>\n",
              "</mark>\n",
              " through efficiency improvements.</div></span>"
            ],
            "text/plain": [
              "<IPython.core.display.HTML object>"
            ]
          },
          "metadata": {
            "tags": []
          }
        }
      ]
    },
    {
      "cell_type": "code",
      "metadata": {
        "colab": {
          "base_uri": "https://localhost:8080/",
          "height": 51
        },
        "id": "J_GEY2QESj_i",
        "outputId": "4aad71a0-33e0-4906-80be-34eca4c3e3af"
      },
      "source": [
        "displacy.render(nlp(str(sentences[38])), jupyter=True, style='ent')"
      ],
      "execution_count": 11,
      "outputs": [
        {
          "output_type": "display_data",
          "data": {
            "text/html": [
              "<span class=\"tex2jax_ignore\"><div class=\"entities\" style=\"line-height: 2.5; direction: ltr\">\n",
              "<mark class=\"entity\" style=\"background: #ff9561; padding: 0.45em 0.6em; margin: 0 0.25em; line-height: 1; border-radius: 0.35em;\">\n",
              "    Middle East\n",
              "    <span style=\"font-size: 0.8em; font-weight: bold; line-height: 1; border-radius: 0.35em; text-transform: uppercase; vertical-align: middle; margin-left: 0.5rem\">LOC</span>\n",
              "</mark>\n",
              " \n",
              "<mark class=\"entity\" style=\"background: #feca74; padding: 0.45em 0.6em; margin: 0 0.25em; line-height: 1; border-radius: 0.35em;\">\n",
              "    Iraq\n",
              "    <span style=\"font-size: 0.8em; font-weight: bold; line-height: 1; border-radius: 0.35em; text-transform: uppercase; vertical-align: middle; margin-left: 0.5rem\">GPE</span>\n",
              "</mark>\n",
              " says \n",
              "<mark class=\"entity\" style=\"background: #7aecec; padding: 0.45em 0.6em; margin: 0 0.25em; line-height: 1; border-radius: 0.35em;\">\n",
              "    BP\n",
              "    <span style=\"font-size: 0.8em; font-weight: bold; line-height: 1; border-radius: 0.35em; text-transform: uppercase; vertical-align: middle; margin-left: 0.5rem\">ORG</span>\n",
              "</mark>\n",
              " and \n",
              "<mark class=\"entity\" style=\"background: #7aecec; padding: 0.45em 0.6em; margin: 0 0.25em; line-height: 1; border-radius: 0.35em;\">\n",
              "    Lukoil\n",
              "    <span style=\"font-size: 0.8em; font-weight: bold; line-height: 1; border-radius: 0.35em; text-transform: uppercase; vertical-align: middle; margin-left: 0.5rem\">ORG</span>\n",
              "</mark>\n",
              " want to sell down oil stakes 05/07/2021</div></span>"
            ],
            "text/plain": [
              "<IPython.core.display.HTML object>"
            ]
          },
          "metadata": {
            "tags": []
          }
        }
      ]
    },
    {
      "cell_type": "markdown",
      "metadata": {
        "id": "FZCXOfocoIcS"
      },
      "source": [
        "Comments on some limitations:\n",
        "* Not recognize well between \"person\", \"GPE\", or \"organization\". e.g. in Halliburton as \"person\" (sentence 14) and UAE as \"organization\" (sentence 26)\n",
        "* The \"$764million\" in sentence 14 is not recognized as \"money\" entity, probably because of typos.\n",
        "* To recognize \"05/07/21\" as date, one must use rule-based entity matching in SpaCy, more information [here](https://spacy.io/usage/rule-based-matching/)."
      ]
    },
    {
      "cell_type": "markdown",
      "metadata": {
        "id": "PnqQFuYKpr0w"
      },
      "source": [
        "References:\n",
        "\n",
        "* https://towardsdatascience.com/named-entity-recognition-with-nltk-and-spacy-8c4a7d88e7da"
      ]
    }
  ]
}