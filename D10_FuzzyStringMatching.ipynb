{
  "nbformat": 4,
  "nbformat_minor": 0,
  "metadata": {
    "colab": {
      "name": "D10_FuzzyStringMatching.ipynb",
      "provenance": [],
      "collapsed_sections": [],
      "authorship_tag": "ABX9TyOBu9W0JxfCI81cIgk3jq1q",
      "include_colab_link": true
    },
    "kernelspec": {
      "name": "python3",
      "display_name": "Python 3"
    },
    "language_info": {
      "name": "python"
    }
  },
  "cells": [
    {
      "cell_type": "markdown",
      "metadata": {
        "id": "view-in-github",
        "colab_type": "text"
      },
      "source": [
        "<a href=\"https://colab.research.google.com/github/yohanesnuwara/66DaysOfData/blob/main/D10_FuzzyStringMatching.ipynb\" target=\"_parent\"><img src=\"https://colab.research.google.com/assets/colab-badge.svg\" alt=\"Open In Colab\"/></a>"
      ]
    },
    {
      "cell_type": "markdown",
      "metadata": {
        "id": "84_fqdlf-V6r"
      },
      "source": [
        "# Fuzzy String Matching"
      ]
    },
    {
      "cell_type": "markdown",
      "metadata": {
        "id": "kLQbYJmgzThk"
      },
      "source": [
        "Someone posting an interesting problem in his Twitter that a dataset contains multiple spelling issues of \"Philadelphia\", such as \"Philadelpia\" or \"Phila\". The task is to fix these data. One suggests using Levenshtein distance to determine how similar two words are. "
      ]
    },
    {
      "cell_type": "code",
      "metadata": {
        "colab": {
          "base_uri": "https://localhost:8080/"
        },
        "id": "G67aWFa61vwa",
        "outputId": "bf32fbd0-f7eb-4b7e-ebfc-4115aceee3ea"
      },
      "source": [
        "import numpy as np\n",
        "import matplotlib.pyplot as plt\n",
        "import pandas as pd\n",
        "\n",
        "# Install FuzzyWuzzy\n",
        "!pip install -q fuzzywuzzy\n",
        "from fuzzywuzzy import fuzz, process"
      ],
      "execution_count": 1,
      "outputs": [
        {
          "output_type": "stream",
          "text": [
            "/usr/local/lib/python3.7/dist-packages/fuzzywuzzy/fuzz.py:11: UserWarning: Using slow pure-python SequenceMatcher. Install python-Levenshtein to remove this warning\n",
            "  warnings.warn('Using slow pure-python SequenceMatcher. Install python-Levenshtein to remove this warning')\n"
          ],
          "name": "stderr"
        }
      ]
    },
    {
      "cell_type": "code",
      "metadata": {
        "id": "eg-KKhIz-Rg3",
        "colab": {
          "base_uri": "https://localhost:8080/"
        },
        "outputId": "618839eb-5811-4ac8-80ab-0182b8da8c45"
      },
      "source": [
        "!wget https://github.com/yohanesnuwara/datasets/raw/master/PPP_data_150k_plus.csv.rar\n",
        "!unrar x \"/content/PPP_data_150k_plus.csv.rar\" \"/content\""
      ],
      "execution_count": 2,
      "outputs": [
        {
          "output_type": "stream",
          "text": [
            "--2021-07-13 03:52:09--  https://github.com/yohanesnuwara/datasets/raw/master/PPP_data_150k_plus.csv.rar\n",
            "Resolving github.com (github.com)... 140.82.112.4\n",
            "Connecting to github.com (github.com)|140.82.112.4|:443... connected.\n",
            "HTTP request sent, awaiting response... 302 Found\n",
            "Location: https://raw.githubusercontent.com/yohanesnuwara/datasets/master/PPP_data_150k_plus.csv.rar [following]\n",
            "--2021-07-13 03:52:09--  https://raw.githubusercontent.com/yohanesnuwara/datasets/master/PPP_data_150k_plus.csv.rar\n",
            "Resolving raw.githubusercontent.com (raw.githubusercontent.com)... 185.199.108.133, 185.199.109.133, 185.199.110.133, ...\n",
            "Connecting to raw.githubusercontent.com (raw.githubusercontent.com)|185.199.108.133|:443... connected.\n",
            "HTTP request sent, awaiting response... 200 OK\n",
            "Length: 18167052 (17M) [application/octet-stream]\n",
            "Saving to: ‘PPP_data_150k_plus.csv.rar’\n",
            "\n",
            "PPP_data_150k_plus. 100%[===================>]  17.33M   112MB/s    in 0.2s    \n",
            "\n",
            "2021-07-13 03:52:10 (112 MB/s) - ‘PPP_data_150k_plus.csv.rar’ saved [18167052/18167052]\n",
            "\n",
            "\n",
            "UNRAR 5.50 freeware      Copyright (c) 1993-2017 Alexander Roshal\n",
            "\n",
            "\n",
            "Extracting from /content/PPP_data_150k_plus.csv.rar\n",
            "\n",
            "Creating    /content/PPP_data_150k_plus.csv                           OK\n",
            "Extracting  /content/PPP_data_150k_plus.csv/PPP_data_150k_plus.csv       \b\b\b\b 23%\b\b\b\b 46%\b\b\b\b 69%\b\b\b\b 92%\b\b\b\b 99%\b\b\b\b\b  OK \n",
            "All OK\n"
          ],
          "name": "stdout"
        }
      ]
    },
    {
      "cell_type": "code",
      "metadata": {
        "colab": {
          "base_uri": "https://localhost:8080/"
        },
        "id": "smW9EY3H1iH2",
        "outputId": "695b3b67-96e1-4aa7-ffcf-99cdbc0b0a7c"
      },
      "source": [
        "df = pd.read_csv(\"/content/PPP_data_150k_plus.csv/PPP_data_150k_plus.csv\")\n",
        "\n",
        "df.info()"
      ],
      "execution_count": 3,
      "outputs": [
        {
          "output_type": "stream",
          "text": [
            "<class 'pandas.core.frame.DataFrame'>\n",
            "RangeIndex: 661218 entries, 0 to 661217\n",
            "Data columns (total 16 columns):\n",
            " #   Column         Non-Null Count   Dtype  \n",
            "---  ------         --------------   -----  \n",
            " 0   LoanRange      661218 non-null  object \n",
            " 1   BusinessName   661210 non-null  object \n",
            " 2   Address        661201 non-null  object \n",
            " 3   City           661203 non-null  object \n",
            " 4   State          661218 non-null  object \n",
            " 5   Zip            661202 non-null  float64\n",
            " 6   NAICSCode      654435 non-null  float64\n",
            " 7   BusinessType   659789 non-null  object \n",
            " 8   RaceEthnicity  661218 non-null  object \n",
            " 9   Gender         661218 non-null  object \n",
            " 10  Veteran        661218 non-null  object \n",
            " 11  NonProfit      42462 non-null   object \n",
            " 12  JobsRetained   620712 non-null  float64\n",
            " 13  DateApproved   661218 non-null  object \n",
            " 14  Lender         661218 non-null  object \n",
            " 15  CD             661218 non-null  object \n",
            "dtypes: float64(3), object(13)\n",
            "memory usage: 80.7+ MB\n"
          ],
          "name": "stdout"
        }
      ]
    },
    {
      "cell_type": "markdown",
      "metadata": {
        "id": "YTVnvzAO2Yz4"
      },
      "source": [
        "Masking cities starting with \"PH\"\n",
        "\n"
      ]
    },
    {
      "cell_type": "code",
      "metadata": {
        "colab": {
          "base_uri": "https://localhost:8080/"
        },
        "id": "HdzXqxE_2bxD",
        "outputId": "6eae16f5-ee17-4a85-e013-03a13b1ffab1"
      },
      "source": [
        "cities = df.City.unique().astype(str)\n",
        "\n",
        "cities_p = [c for c in cities if c.startswith(\"PH\")]\n",
        "cities_p"
      ],
      "execution_count": 4,
      "outputs": [
        {
          "output_type": "execute_result",
          "data": {
            "text/plain": [
              "['PHENIX CITY',\n",
              " 'PHIL CAMPBELL',\n",
              " 'PHENIX',\n",
              " 'PHOENIX',\n",
              " 'PHOENIXA',\n",
              " 'PHOENIX,',\n",
              " 'PHOENX',\n",
              " 'PHOENIX AZ 85017',\n",
              " 'PHONEIX',\n",
              " 'PHEONIX',\n",
              " 'PHILO',\n",
              " 'PHELAN',\n",
              " 'PHILLIPSBURG',\n",
              " 'PHILPOT',\n",
              " 'PHELPS',\n",
              " 'PHILLIPSTON',\n",
              " 'PHIPPSBURG',\n",
              " 'PHILADELPHIA',\n",
              " 'PHEBA',\n",
              " 'PHILIPSBURG',\n",
              " 'PHILMONT',\n",
              " 'PHILIPSTOWN',\n",
              " 'PHOENICIA',\n",
              " 'PHILOMATH',\n",
              " 'PHOENIXVILLE',\n",
              " 'PHILA',\n",
              " 'PHILDADELPHIA',\n",
              " 'PHILADELPHIA,',\n",
              " 'PHIALDELPHIA',\n",
              " 'PHIADELPHIA',\n",
              " 'PHILADELPIA',\n",
              " 'PHILADELKPHIA',\n",
              " 'PHOENIXVILE',\n",
              " 'PHILA.',\n",
              " 'PHILADELPHILA',\n",
              " 'PHILADEPHIA',\n",
              " 'PHILDELPHIA',\n",
              " 'PHILIP',\n",
              " 'PHARR',\n",
              " 'PHILLIPS',\n",
              " 'PHILIPPI']"
            ]
          },
          "metadata": {
            "tags": []
          },
          "execution_count": 4
        }
      ]
    },
    {
      "cell_type": "markdown",
      "metadata": {
        "id": "qevD1sH23331"
      },
      "source": [
        "Now, not all cities that starts with \"PH\" are not actually \"PHILADELPHIA\". For example, \"PHILLIPSBURG\" Therefore, we need to look at cities in US as reference. Look another dataset."
      ]
    },
    {
      "cell_type": "code",
      "metadata": {
        "colab": {
          "base_uri": "https://localhost:8080/",
          "height": 417
        },
        "id": "SS_odemS3unp",
        "outputId": "a410dcad-ba36-4a47-b1e4-ef749639b19c"
      },
      "source": [
        "!wget https://raw.githubusercontent.com/yohanesnuwara/datasets/master/us_cities.csv\n",
        "\n",
        "city_df = pd.read_csv('/content/us_cities.csv')\n",
        "\n",
        "city_df.head()"
      ],
      "execution_count": 5,
      "outputs": [
        {
          "output_type": "stream",
          "text": [
            "--2021-07-13 03:52:14--  https://raw.githubusercontent.com/yohanesnuwara/datasets/master/us_cities.csv\n",
            "Resolving raw.githubusercontent.com (raw.githubusercontent.com)... 185.199.108.133, 185.199.109.133, 185.199.110.133, ...\n",
            "Connecting to raw.githubusercontent.com (raw.githubusercontent.com)|185.199.108.133|:443... connected.\n",
            "HTTP request sent, awaiting response... 200 OK\n",
            "Length: 1720210 (1.6M) [text/plain]\n",
            "Saving to: ‘us_cities.csv’\n",
            "\n",
            "\rus_cities.csv         0%[                    ]       0  --.-KB/s               \rus_cities.csv       100%[===================>]   1.64M  --.-KB/s    in 0.08s   \n",
            "\n",
            "2021-07-13 03:52:14 (19.4 MB/s) - ‘us_cities.csv’ saved [1720210/1720210]\n",
            "\n"
          ],
          "name": "stdout"
        },
        {
          "output_type": "execute_result",
          "data": {
            "text/html": [
              "<div>\n",
              "<style scoped>\n",
              "    .dataframe tbody tr th:only-of-type {\n",
              "        vertical-align: middle;\n",
              "    }\n",
              "\n",
              "    .dataframe tbody tr th {\n",
              "        vertical-align: top;\n",
              "    }\n",
              "\n",
              "    .dataframe thead th {\n",
              "        text-align: right;\n",
              "    }\n",
              "</style>\n",
              "<table border=\"1\" class=\"dataframe\">\n",
              "  <thead>\n",
              "    <tr style=\"text-align: right;\">\n",
              "      <th></th>\n",
              "      <th>ID</th>\n",
              "      <th>STATE_CODE</th>\n",
              "      <th>STATE_NAME</th>\n",
              "      <th>CITY</th>\n",
              "      <th>COUNTY</th>\n",
              "      <th>LATITUDE</th>\n",
              "      <th>LONGITUDE</th>\n",
              "    </tr>\n",
              "  </thead>\n",
              "  <tbody>\n",
              "    <tr>\n",
              "      <th>0</th>\n",
              "      <td>1</td>\n",
              "      <td>AK</td>\n",
              "      <td>Alaska</td>\n",
              "      <td>Adak</td>\n",
              "      <td>Aleutians West</td>\n",
              "      <td>55.999722</td>\n",
              "      <td>-161.207778</td>\n",
              "    </tr>\n",
              "    <tr>\n",
              "      <th>1</th>\n",
              "      <td>2</td>\n",
              "      <td>AK</td>\n",
              "      <td>Alaska</td>\n",
              "      <td>Akiachak</td>\n",
              "      <td>Bethel</td>\n",
              "      <td>60.891854</td>\n",
              "      <td>-161.392330</td>\n",
              "    </tr>\n",
              "    <tr>\n",
              "      <th>2</th>\n",
              "      <td>3</td>\n",
              "      <td>AK</td>\n",
              "      <td>Alaska</td>\n",
              "      <td>Akiak</td>\n",
              "      <td>Bethel</td>\n",
              "      <td>60.890632</td>\n",
              "      <td>-161.199325</td>\n",
              "    </tr>\n",
              "    <tr>\n",
              "      <th>3</th>\n",
              "      <td>4</td>\n",
              "      <td>AK</td>\n",
              "      <td>Alaska</td>\n",
              "      <td>Akutan</td>\n",
              "      <td>Aleutians East</td>\n",
              "      <td>54.143012</td>\n",
              "      <td>-165.785368</td>\n",
              "    </tr>\n",
              "    <tr>\n",
              "      <th>4</th>\n",
              "      <td>5</td>\n",
              "      <td>AK</td>\n",
              "      <td>Alaska</td>\n",
              "      <td>Alakanuk</td>\n",
              "      <td>Kusilvak</td>\n",
              "      <td>62.746967</td>\n",
              "      <td>-164.602280</td>\n",
              "    </tr>\n",
              "  </tbody>\n",
              "</table>\n",
              "</div>"
            ],
            "text/plain": [
              "   ID STATE_CODE STATE_NAME      CITY          COUNTY   LATITUDE   LONGITUDE\n",
              "0   1         AK     Alaska      Adak  Aleutians West  55.999722 -161.207778\n",
              "1   2         AK     Alaska  Akiachak          Bethel  60.891854 -161.392330\n",
              "2   3         AK     Alaska     Akiak          Bethel  60.890632 -161.199325\n",
              "3   4         AK     Alaska    Akutan  Aleutians East  54.143012 -165.785368\n",
              "4   5         AK     Alaska  Alakanuk        Kusilvak  62.746967 -164.602280"
            ]
          },
          "metadata": {
            "tags": []
          },
          "execution_count": 5
        }
      ]
    },
    {
      "cell_type": "markdown",
      "metadata": {
        "id": "NiOj4i8d60dT"
      },
      "source": [
        "These are all cities that starts with \"PH\"."
      ]
    },
    {
      "cell_type": "code",
      "metadata": {
        "colab": {
          "base_uri": "https://localhost:8080/"
        },
        "id": "nmFat5aF59Np",
        "outputId": "7fdfc98f-ec1a-425a-e21a-391783553022"
      },
      "source": [
        "cities = city_df.CITY.unique().astype(str)\n",
        "\n",
        "cities_actual = [c.upper() for c in cities if c.upper().startswith(\"PH\")]\n",
        "cities_actual"
      ],
      "execution_count": 6,
      "outputs": [
        {
          "output_type": "execute_result",
          "data": {
            "text/plain": [
              "['PHENIX CITY',\n",
              " 'PHIL CAMPBELL',\n",
              " 'PHOENIX',\n",
              " 'PHELAN',\n",
              " 'PHILLIPSVILLE',\n",
              " 'PHILO',\n",
              " 'PHIPPSBURG',\n",
              " 'PHILLIPSBURG',\n",
              " 'PHELPS',\n",
              " 'PHILPOT',\n",
              " 'PHYLLIS',\n",
              " 'PHILLIPS',\n",
              " 'PHILADELPHIA',\n",
              " 'PHEBA',\n",
              " 'PHILIPP',\n",
              " 'PHILIPSBURG',\n",
              " 'PHILLIPSPORT',\n",
              " 'PHILMONT',\n",
              " 'PHOENICIA',\n",
              " 'PHILOMATH',\n",
              " 'PHOENIXVILLE',\n",
              " 'PHILIP',\n",
              " 'PHARR',\n",
              " 'PHENIX',\n",
              " 'PHILOMONT',\n",
              " 'PHLOX',\n",
              " 'PHILIPPI']"
            ]
          },
          "metadata": {
            "tags": []
          },
          "execution_count": 6
        }
      ]
    },
    {
      "cell_type": "markdown",
      "metadata": {
        "id": "vMP_OdGd7FeI"
      },
      "source": [
        "Masking out the cities list, we have name of cities starting with \"PH\" that are mispelled or invalid names. Most of them referring to \"PHILADELPHIA\"."
      ]
    },
    {
      "cell_type": "code",
      "metadata": {
        "colab": {
          "base_uri": "https://localhost:8080/"
        },
        "id": "9ZkDohJU6u5f",
        "outputId": "0ffc84db-3124-48b9-8ecf-e9f34de2739b"
      },
      "source": [
        "ph_incorrect = [c for c in cities_p if c not in cities_actual]\n",
        "\n",
        "ph_incorrect"
      ],
      "execution_count": 7,
      "outputs": [
        {
          "output_type": "execute_result",
          "data": {
            "text/plain": [
              "['PHOENIXA',\n",
              " 'PHOENIX,',\n",
              " 'PHOENX',\n",
              " 'PHOENIX AZ 85017',\n",
              " 'PHONEIX',\n",
              " 'PHEONIX',\n",
              " 'PHILLIPSTON',\n",
              " 'PHILIPSTOWN',\n",
              " 'PHILA',\n",
              " 'PHILDADELPHIA',\n",
              " 'PHILADELPHIA,',\n",
              " 'PHIALDELPHIA',\n",
              " 'PHIADELPHIA',\n",
              " 'PHILADELPIA',\n",
              " 'PHILADELKPHIA',\n",
              " 'PHOENIXVILE',\n",
              " 'PHILA.',\n",
              " 'PHILADELPHILA',\n",
              " 'PHILADEPHIA',\n",
              " 'PHILDELPHIA']"
            ]
          },
          "metadata": {
            "tags": []
          },
          "execution_count": 7
        }
      ]
    },
    {
      "cell_type": "markdown",
      "metadata": {
        "id": "8U5xjnqG9Nfd"
      },
      "source": [
        "Use FuzzyWuzzy to calculate similarity between two words. A name from the above list, for example, \"PHILADELKPHIA\", is compared to every city name in the `cities_actual` list. We can see \"PHILADELKPHIA\" and \"PHILADELPHIA\" has similarity score 96. "
      ]
    },
    {
      "cell_type": "code",
      "metadata": {
        "colab": {
          "base_uri": "https://localhost:8080/"
        },
        "id": "tZAPEeeV8lkX",
        "outputId": "5db7007f-f413-44fb-d684-36de835af135"
      },
      "source": [
        "example = ph_incorrect[14]\n",
        "\n",
        "for potential in cities_actual:\n",
        "    print(f\"{example} -> {potential} = {fuzz.ratio(example, potential)}\")"
      ],
      "execution_count": 8,
      "outputs": [
        {
          "output_type": "stream",
          "text": [
            "PHILADELKPHIA -> PHENIX CITY = 33\n",
            "PHILADELKPHIA -> PHIL CAMPBELL = 54\n",
            "PHILADELKPHIA -> PHOENIX = 30\n",
            "PHILADELKPHIA -> PHELAN = 42\n",
            "PHILADELKPHIA -> PHILLIPSVILLE = 38\n",
            "PHILADELKPHIA -> PHILO = 44\n",
            "PHILADELKPHIA -> PHIPPSBURG = 35\n",
            "PHILADELKPHIA -> PHILLIPSBURG = 48\n",
            "PHILADELKPHIA -> PHELPS = 53\n",
            "PHILADELKPHIA -> PHILPOT = 50\n",
            "PHILADELKPHIA -> PHYLLIS = 30\n",
            "PHILADELKPHIA -> PHILLIPS = 57\n",
            "PHILADELKPHIA -> PHILADELPHIA = 96\n",
            "PHILADELKPHIA -> PHEBA = 33\n",
            "PHILADELKPHIA -> PHILIPP = 50\n",
            "PHILADELKPHIA -> PHILIPSBURG = 42\n",
            "PHILADELKPHIA -> PHILLIPSPORT = 48\n",
            "PHILADELKPHIA -> PHILMONT = 38\n",
            "PHILADELKPHIA -> PHOENICIA = 45\n",
            "PHILADELKPHIA -> PHILOMATH = 55\n",
            "PHILADELKPHIA -> PHOENIXVILLE = 40\n",
            "PHILADELKPHIA -> PHILIP = 53\n",
            "PHILADELKPHIA -> PHARR = 33\n",
            "PHILADELKPHIA -> PHENIX = 32\n",
            "PHILADELKPHIA -> PHILOMONT = 36\n",
            "PHILADELKPHIA -> PHLOX = 33\n",
            "PHILADELKPHIA -> PHILIPPI = 57\n"
          ],
          "name": "stdout"
        }
      ]
    },
    {
      "cell_type": "code",
      "metadata": {
        "colab": {
          "base_uri": "https://localhost:8080/"
        },
        "id": "58fDfEPJ9s0k",
        "outputId": "19b3a1b3-bcb0-4447-99ce-39d93109b78d"
      },
      "source": [
        "best_match = process.extractOne(example, cities_actual)\n",
        "print(best_match)"
      ],
      "execution_count": 9,
      "outputs": [
        {
          "output_type": "stream",
          "text": [
            "('PHILADELPHIA', 96)\n"
          ],
          "name": "stdout"
        }
      ]
    },
    {
      "cell_type": "markdown",
      "metadata": {
        "id": "6Og06z16-rr0"
      },
      "source": [
        "Now, for each name in our incorrect name list, determine which one actual city name has the best match.  "
      ]
    },
    {
      "cell_type": "code",
      "metadata": {
        "colab": {
          "base_uri": "https://localhost:8080/"
        },
        "id": "3dcVG5Yn-0Hy",
        "outputId": "0f3051fc-bf21-40a4-9298-0db98e552d6a"
      },
      "source": [
        "for c in ph_incorrect:\n",
        "  best_city_name = process.extractOne(c, cities_actual)[0]\n",
        "  print(f\"{c} -> {best_city_name}\")"
      ],
      "execution_count": 10,
      "outputs": [
        {
          "output_type": "stream",
          "text": [
            "PHOENIXA -> PHOENIX\n",
            "PHOENIX, -> PHOENIX\n",
            "PHOENX -> PHOENIX\n",
            "PHOENIX AZ 85017 -> PHOENIX\n",
            "PHONEIX -> PHOENIX\n",
            "PHEONIX -> PHENIX\n",
            "PHILLIPSTON -> PHILLIPS\n",
            "PHILIPSTOWN -> PHILIP\n",
            "PHILA -> PHILADELPHIA\n",
            "PHILDADELPHIA -> PHILADELPHIA\n",
            "PHILADELPHIA, -> PHILADELPHIA\n",
            "PHIALDELPHIA -> PHILADELPHIA\n",
            "PHIADELPHIA -> PHILADELPHIA\n",
            "PHILADELPIA -> PHILADELPHIA\n",
            "PHILADELKPHIA -> PHILADELPHIA\n",
            "PHOENIXVILE -> PHOENIXVILLE\n",
            "PHILA. -> PHILADELPHIA\n",
            "PHILADELPHILA -> PHILADELPHIA\n",
            "PHILADEPHIA -> PHILADELPHIA\n",
            "PHILDELPHIA -> PHILADELPHIA\n"
          ],
          "name": "stdout"
        }
      ]
    },
    {
      "cell_type": "markdown",
      "metadata": {
        "id": "vGLpfmZn-VTC"
      },
      "source": [
        "References:\n",
        "* https://cosmiccoding.com.au/tutorials/fuzzy_string_matching\n",
        "* https://www.datacamp.com/community/tutorials/fuzzy-string-python"
      ]
    }
  ]
}