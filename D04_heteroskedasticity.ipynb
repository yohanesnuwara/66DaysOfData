{
  "nbformat": 4,
  "nbformat_minor": 0,
  "metadata": {
    "colab": {
      "name": "D04_heteroskedasticity.ipynb",
      "provenance": [],
      "collapsed_sections": [],
      "authorship_tag": "ABX9TyPJKUXLYyTpLOiHkkYeXhC3",
      "include_colab_link": true
    },
    "kernelspec": {
      "name": "python3",
      "display_name": "Python 3"
    },
    "language_info": {
      "name": "python"
    }
  },
  "cells": [
    {
      "cell_type": "markdown",
      "metadata": {
        "id": "view-in-github",
        "colab_type": "text"
      },
      "source": [
        "<a href=\"https://colab.research.google.com/github/yohanesnuwara/66DaysOfData/blob/main/D04_heteroskedasticity.ipynb\" target=\"_parent\"><img src=\"https://colab.research.google.com/assets/colab-badge.svg\" alt=\"Open In Colab\"/></a>"
      ]
    },
    {
      "cell_type": "markdown",
      "metadata": {
        "id": "6ixv_4N_9BPm"
      },
      "source": [
        "# Heteroskedasticity"
      ]
    },
    {
      "cell_type": "code",
      "metadata": {
        "id": "O76Fynq0-lKr"
      },
      "source": [
        "import numpy as np\n",
        "import matplotlib.pyplot as plt\n",
        "import pandas as pd\n",
        "\n",
        "import statsmodels.api as sm\n",
        "import statsmodels.formula.api as smf\n",
        "from statsmodels.stats.diagnostic import het_white, het_breuschpagan\n",
        "from statsmodels.compat import lzip\n",
        "from patsy import dmatrices"
      ],
      "execution_count": null,
      "outputs": []
    },
    {
      "cell_type": "code",
      "metadata": {
        "colab": {
          "base_uri": "https://localhost:8080/",
          "height": 206
        },
        "id": "PYaTwUu-_x5E",
        "outputId": "dde4c308-0d7a-4d45-965e-66515982aecc"
      },
      "source": [
        "path = 'https://raw.githubusercontent.com/yohanesnuwara/datasets/master/monthly_gold_price_index_fred.csv'\n",
        "\n",
        "df = pd.read_csv(path)\n",
        "df['Time_Period'] = np.arange(len(df))+1\n",
        "df.head()"
      ],
      "execution_count": null,
      "outputs": [
        {
          "output_type": "execute_result",
          "data": {
            "text/html": [
              "<div>\n",
              "<style scoped>\n",
              "    .dataframe tbody tr th:only-of-type {\n",
              "        vertical-align: middle;\n",
              "    }\n",
              "\n",
              "    .dataframe tbody tr th {\n",
              "        vertical-align: top;\n",
              "    }\n",
              "\n",
              "    .dataframe thead th {\n",
              "        text-align: right;\n",
              "    }\n",
              "</style>\n",
              "<table border=\"1\" class=\"dataframe\">\n",
              "  <thead>\n",
              "    <tr style=\"text-align: right;\">\n",
              "      <th></th>\n",
              "      <th>DATE</th>\n",
              "      <th>Export_Price_Index_of_Gold</th>\n",
              "      <th>Time_Period</th>\n",
              "    </tr>\n",
              "  </thead>\n",
              "  <tbody>\n",
              "    <tr>\n",
              "      <th>0</th>\n",
              "      <td>2001-01-01</td>\n",
              "      <td>97.0</td>\n",
              "      <td>1</td>\n",
              "    </tr>\n",
              "    <tr>\n",
              "      <th>1</th>\n",
              "      <td>2001-02-01</td>\n",
              "      <td>94.8</td>\n",
              "      <td>2</td>\n",
              "    </tr>\n",
              "    <tr>\n",
              "      <th>2</th>\n",
              "      <td>2001-03-01</td>\n",
              "      <td>93.7</td>\n",
              "      <td>3</td>\n",
              "    </tr>\n",
              "    <tr>\n",
              "      <th>3</th>\n",
              "      <td>2001-04-01</td>\n",
              "      <td>93.9</td>\n",
              "      <td>4</td>\n",
              "    </tr>\n",
              "    <tr>\n",
              "      <th>4</th>\n",
              "      <td>2001-05-01</td>\n",
              "      <td>93.1</td>\n",
              "      <td>5</td>\n",
              "    </tr>\n",
              "  </tbody>\n",
              "</table>\n",
              "</div>"
            ],
            "text/plain": [
              "         DATE  Export_Price_Index_of_Gold  Time_Period\n",
              "0  2001-01-01                        97.0            1\n",
              "1  2001-02-01                        94.8            2\n",
              "2  2001-03-01                        93.7            3\n",
              "3  2001-04-01                        93.9            4\n",
              "4  2001-05-01                        93.1            5"
            ]
          },
          "metadata": {
            "tags": []
          },
          "execution_count": 2
        }
      ]
    },
    {
      "cell_type": "code",
      "metadata": {
        "colab": {
          "base_uri": "https://localhost:8080/",
          "height": 279
        },
        "id": "NpcVVvuQBSli",
        "outputId": "d967fff8-3333-4561-e5f9-e27150f1e0c9"
      },
      "source": [
        "# Plot timeseries\n",
        "df['Export_Price_Index_of_Gold'].plot()\n",
        "plt.xlabel('Time Index')\n",
        "plt.ylabel('Price Index')\n",
        "plt.show()"
      ],
      "execution_count": null,
      "outputs": [
        {
          "output_type": "display_data",
          "data": {
            "image/png": "[encoded data removed]",
            "text/plain": [
              "<Figure size 432x288 with 1 Axes>"
            ]
          },
          "metadata": {
            "tags": [],
            "needs_background": "light"
          }
        }
      ]
    },
    {
      "cell_type": "code",
      "metadata": {
        "colab": {
          "base_uri": "https://localhost:8080/",
          "height": 279
        },
        "id": "Kl2Lr5QnEmS2",
        "outputId": "5f763568-cf27-4885-fbe9-18f5cc62bdb0"
      },
      "source": [
        "# Plot timeseries difference\n",
        "df['Export_Price_Index_of_Gold'].diff().plot()\n",
        "plt.xlabel('Time Index')\n",
        "plt.ylabel('Price Index')\n",
        "plt.show()"
      ],
      "execution_count": null,
      "outputs": [
        {
          "output_type": "display_data",
          "data": {
            "image/png": "[encoded data removed]",
            "text/plain": [
              "<Figure size 432x288 with 1 Axes>"
            ]
          },
          "metadata": {
            "tags": [],
            "needs_background": "light"
          }
        }
      ]
    },
    {
      "cell_type": "markdown",
      "metadata": {
        "id": "6tJUFmyzqwRx"
      },
      "source": [
        "## Removing heteroskedasticity"
      ]
    },
    {
      "cell_type": "markdown",
      "metadata": {
        "id": "Y9gPl0xWqzHY"
      },
      "source": [
        "Use log transform."
      ]
    },
    {
      "cell_type": "code",
      "metadata": {
        "colab": {
          "base_uri": "https://localhost:8080/",
          "height": 206
        },
        "id": "Oc_zZOe5GugQ",
        "outputId": "7371712c-0960-4594-8f39-524bbc32e502"
      },
      "source": [
        "# Take log\n",
        "df['LOG_Export_Price_Index_of_Gold'] = np.log(df['Export_Price_Index_of_Gold'])\n",
        "\n",
        "df.head()"
      ],
      "execution_count": null,
      "outputs": [
        {
          "output_type": "execute_result",
          "data": {
            "text/html": [
              "<div>\n",
              "<style scoped>\n",
              "    .dataframe tbody tr th:only-of-type {\n",
              "        vertical-align: middle;\n",
              "    }\n",
              "\n",
              "    .dataframe tbody tr th {\n",
              "        vertical-align: top;\n",
              "    }\n",
              "\n",
              "    .dataframe thead th {\n",
              "        text-align: right;\n",
              "    }\n",
              "</style>\n",
              "<table border=\"1\" class=\"dataframe\">\n",
              "  <thead>\n",
              "    <tr style=\"text-align: right;\">\n",
              "      <th></th>\n",
              "      <th>DATE</th>\n",
              "      <th>Export_Price_Index_of_Gold</th>\n",
              "      <th>Time_Period</th>\n",
              "      <th>LOG_Export_Price_Index_of_Gold</th>\n",
              "    </tr>\n",
              "  </thead>\n",
              "  <tbody>\n",
              "    <tr>\n",
              "      <th>0</th>\n",
              "      <td>2001-01-01</td>\n",
              "      <td>97.0</td>\n",
              "      <td>1</td>\n",
              "      <td>4.574711</td>\n",
              "    </tr>\n",
              "    <tr>\n",
              "      <th>1</th>\n",
              "      <td>2001-02-01</td>\n",
              "      <td>94.8</td>\n",
              "      <td>2</td>\n",
              "      <td>4.551769</td>\n",
              "    </tr>\n",
              "    <tr>\n",
              "      <th>2</th>\n",
              "      <td>2001-03-01</td>\n",
              "      <td>93.7</td>\n",
              "      <td>3</td>\n",
              "      <td>4.540098</td>\n",
              "    </tr>\n",
              "    <tr>\n",
              "      <th>3</th>\n",
              "      <td>2001-04-01</td>\n",
              "      <td>93.9</td>\n",
              "      <td>4</td>\n",
              "      <td>4.542230</td>\n",
              "    </tr>\n",
              "    <tr>\n",
              "      <th>4</th>\n",
              "      <td>2001-05-01</td>\n",
              "      <td>93.1</td>\n",
              "      <td>5</td>\n",
              "      <td>4.533674</td>\n",
              "    </tr>\n",
              "  </tbody>\n",
              "</table>\n",
              "</div>"
            ],
            "text/plain": [
              "         DATE  ...  LOG_Export_Price_Index_of_Gold\n",
              "0  2001-01-01  ...                        4.574711\n",
              "1  2001-02-01  ...                        4.551769\n",
              "2  2001-03-01  ...                        4.540098\n",
              "3  2001-04-01  ...                        4.542230\n",
              "4  2001-05-01  ...                        4.533674\n",
              "\n",
              "[5 rows x 4 columns]"
            ]
          },
          "metadata": {
            "tags": []
          },
          "execution_count": 5
        }
      ]
    },
    {
      "cell_type": "code",
      "metadata": {
        "colab": {
          "base_uri": "https://localhost:8080/",
          "height": 282
        },
        "id": "8ADYTyblIefg",
        "outputId": "21915584-196a-4dc0-984d-7c8b64904eca"
      },
      "source": [
        "# Plot timeseries\n",
        "df.iloc[:,-1].plot()\n",
        "plt.xlabel('Time Index')\n",
        "plt.ylabel('Log Price Index')\n",
        "plt.show()"
      ],
      "execution_count": null,
      "outputs": [
        {
          "output_type": "display_data",
          "data": {
            "image/png": "[encoded data removed]",
            "text/plain": [
              "<Figure size 432x288 with 1 Axes>"
            ]
          },
          "metadata": {
            "tags": [],
            "needs_background": "light"
          }
        }
      ]
    },
    {
      "cell_type": "markdown",
      "metadata": {
        "id": "DnKqa9h5Kgjg"
      },
      "source": [
        "## Ordinary Least Square Regression (OLSR)"
      ]
    },
    {
      "cell_type": "markdown",
      "metadata": {
        "id": "L8hdOjYxq8xu"
      },
      "source": [
        "Apply ordinary least-square regression to the log transformed feature."
      ]
    },
    {
      "cell_type": "code",
      "metadata": {
        "colab": {
          "base_uri": "https://localhost:8080/"
        },
        "id": "dLkgiZ7fKkIk",
        "outputId": "58cbe3bb-a4b2-474d-ea06-eebd335a00dd"
      },
      "source": [
        "expr = 'LOG_Export_Price_Index_of_Gold ~ Time_Period'\n",
        "olsr_results = smf.ols(expr, df).fit()\n",
        "\n",
        "# Print residual\n",
        "print(olsr_results.resid)"
      ],
      "execution_count": null,
      "outputs": [
        {
          "output_type": "stream",
          "text": [
            "0      0.174255\n",
            "1      0.137017\n",
            "2      0.111049\n",
            "3      0.098885\n",
            "4      0.076032\n",
            "         ...   \n",
            "127    0.095990\n",
            "128    0.190242\n",
            "129    0.173828\n",
            "130    0.107130\n",
            "131    0.136388\n",
            "Length: 132, dtype: float64\n"
          ],
          "name": "stdout"
        }
      ]
    },
    {
      "cell_type": "code",
      "metadata": {
        "colab": {
          "base_uri": "https://localhost:8080/",
          "height": 279
        },
        "id": "rMg5y7njqOUq",
        "outputId": "188139a6-5331-4251-893d-4cce6af9cffd"
      },
      "source": [
        "x = df['Time_Period'].values\n",
        "y = olsr_results.resid\n",
        "plt.plot(x, y)\n",
        "plt.xlabel('Time Period')\n",
        "plt.ylabel('OLSR Residual')\n",
        "plt.show()"
      ],
      "execution_count": null,
      "outputs": [
        {
          "output_type": "display_data",
          "data": {
            "image/png": "[encoded data removed]",
            "text/plain": [
              "<Figure size 432x288 with 1 Axes>"
            ]
          },
          "metadata": {
            "tags": [],
            "needs_background": "light"
          }
        }
      ]
    },
    {
      "cell_type": "markdown",
      "metadata": {
        "id": "OKprjtTEqkdY"
      },
      "source": [
        "## White test for heteroskedasticity"
      ]
    },
    {
      "cell_type": "markdown",
      "metadata": {
        "id": "BE1NyspdtM0O"
      },
      "source": [
        "Null hypothesis ($H_0$): Data is homoskedastic\n",
        "\n",
        "If P<0.5, reject null hypothesis, that means data is heteroskedastic."
      ]
    },
    {
      "cell_type": "code",
      "metadata": {
        "colab": {
          "base_uri": "https://localhost:8080/"
        },
        "id": "N9Ied_Qgqoa4",
        "outputId": "b50e9dad-fee7-46f3-a070-c89146e866a2"
      },
      "source": [
        "# Test heteroskedasticity on residual\n",
        "y, X = dmatrices(expr, df, return_type='dataframe')\n",
        "\n",
        "keys = ['Lagrange Multiplier statistic:', 'LM test\\'s p-value:', \n",
        "        'F-statistic:', 'F-test\\'s p-value:']\n",
        "results = het_white(olsr_results.resid, X)\n",
        "lzip(keys, results)"
      ],
      "execution_count": null,
      "outputs": [
        {
          "output_type": "execute_result",
          "data": {
            "text/plain": [
              "[('Lagrange Multiplier statistic:', 1.0637754647234723),\n",
              " (\"LM test's p-value:\", 0.5874948891259568),\n",
              " ('F-statistic:', 0.524022421741496),\n",
              " (\"F-test's p-value:\", 0.5933889438781197)]"
            ]
          },
          "metadata": {
            "tags": []
          },
          "execution_count": 9
        }
      ]
    },
    {
      "cell_type": "markdown",
      "metadata": {
        "id": "La8lfcH8vXS0"
      },
      "source": [
        "Both p-value for Lagrange Multiplier (LM) and F-test are >0.05 (significance level), so accept null hypothesis. The conclusion is, data in column 'LOG_' is homoskedastic."
      ]
    },
    {
      "cell_type": "markdown",
      "metadata": {
        "id": "PzAbYPxDJvrm"
      },
      "source": [
        "## Breusch-Pagan test for heteroskedasticity"
      ]
    },
    {
      "cell_type": "code",
      "metadata": {
        "colab": {
          "base_uri": "https://localhost:8080/"
        },
        "id": "6pksnelzJ3xh",
        "outputId": "7722f472-cbfe-492d-bae9-7d86522ebd94"
      },
      "source": [
        "keys = ['Lagrange Multiplier statistic:', 'LM test\\'s p-value:', \n",
        "        'F-statistic:', 'F-test\\'s p-value:']\n",
        "results = het_breuschpagan(olsr_results.resid, X)\n",
        "lzip(keys, results)"
      ],
      "execution_count": null,
      "outputs": [
        {
          "output_type": "execute_result",
          "data": {
            "text/plain": [
              "[('Lagrange Multiplier statistic:', 0.8320049475891813),\n",
              " (\"LM test's p-value:\", 0.36169341751904016),\n",
              " ('F-statistic:', 0.8245962983834275),\n",
              " (\"F-test's p-value:\", 0.3655200272928172)]"
            ]
          },
          "metadata": {
            "tags": []
          },
          "execution_count": 11
        }
      ]
    },
    {
      "cell_type": "markdown",
      "metadata": {
        "id": "cw3N2AUnOv8F"
      },
      "source": [
        "Again, because p-values >0.05, accept null hypothesis, and the 'LOG_' is homoskedastic."
      ]
    },
    {
      "cell_type": "markdown",
      "metadata": {
        "id": "GTRROm4vJt_R"
      },
      "source": [
        "References:\n",
        "\n",
        "* https://towardsdatascience.com/heteroscedasticity-is-nothing-to-be-afraid-of-730dd3f7ca1f\n",
        "* Other resources:\n",
        "  * This thread is interesting, it states that heteroskedasticity in data can cause biased model and choosing which metric to use: https://stats.stackexchange.com/questions/300281/why-does-skew-and-heteroscedasticity-lead-to-bias "
      ]
    }
  ]
}