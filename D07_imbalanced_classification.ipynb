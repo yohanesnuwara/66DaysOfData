{
  "nbformat": 4,
  "nbformat_minor": 0,
  "metadata": {
    "colab": {
      "name": "D07_imbalanced_classification.ipynb",
      "provenance": [],
      "collapsed_sections": [],
      "authorship_tag": "ABX9TyPWkQY8JiP+WEE8+NQlD2tX",
      "include_colab_link": true
    },
    "kernelspec": {
      "name": "python3",
      "display_name": "Python 3"
    },
    "language_info": {
      "name": "python"
    }
  },
  "cells": [
    {
      "cell_type": "markdown",
      "metadata": {
        "id": "view-in-github",
        "colab_type": "text"
      },
      "source": [
        "<a href=\"https://colab.research.google.com/github/yohanesnuwara/66DaysOfData/blob/main/D07_imbalanced_classification.ipynb\" target=\"_parent\"><img src=\"https://colab.research.google.com/assets/colab-badge.svg\" alt=\"Open In Colab\"/></a>"
      ]
    },
    {
      "cell_type": "markdown",
      "metadata": {
        "id": "6v3OswDUcl8d"
      },
      "source": [
        "# Imbalanced Classification"
      ]
    },
    {
      "cell_type": "markdown",
      "metadata": {
        "id": "ZTP6k70itNEu"
      },
      "source": [
        "3 strategies to resample imbalanced data:\n",
        "* Undersampling: random technique\n",
        "* Oversampling: SMOTE technique\n",
        "* Combination of undersampling and oversampling"
      ]
    },
    {
      "cell_type": "code",
      "metadata": {
        "id": "9hDLLgvKwhaS",
        "colab": {
          "base_uri": "https://localhost:8080/"
        },
        "outputId": "32b554cb-0b96-49a2-cd99-bee61a5c6c88"
      },
      "source": [
        "import numpy as np\n",
        "import matplotlib.pyplot as plt\n",
        "import pandas as pd\n",
        "\n",
        "from collections import Counter\n",
        "from imblearn.under_sampling import RandomUnderSampler\n",
        "from imblearn.over_sampling import SMOTE\n",
        "from imblearn.pipeline import Pipeline\n",
        "from sklearn.model_selection import train_test_split, RepeatedStratifiedKFold\n",
        "from sklearn.model_selection import cross_validate, cross_val_score\n",
        "from sklearn.ensemble import AdaBoostClassifier\n",
        "from sklearn.metrics import roc_auc_score, plot_confusion_matrix\n",
        "\n",
        "import warnings\n",
        "warnings.simplefilter(action='ignore', category=FutureWarning)"
      ],
      "execution_count": 1,
      "outputs": [
        {
          "output_type": "stream",
          "text": [
            "/usr/local/lib/python3.7/dist-packages/sklearn/externals/six.py:31: FutureWarning: The module is deprecated in version 0.21 and will be removed in version 0.23 since we've dropped support for Python 2.7. Please rely on the official version of six (https://pypi.org/project/six/).\n",
            "  \"(https://pypi.org/project/six/).\", FutureWarning)\n",
            "/usr/local/lib/python3.7/dist-packages/sklearn/utils/deprecation.py:144: FutureWarning: The sklearn.neighbors.base module is  deprecated in version 0.22 and will be removed in version 0.24. The corresponding classes / functions should instead be imported from sklearn.neighbors. Anything that cannot be imported from sklearn.neighbors is now part of the private API.\n",
            "  warnings.warn(message, FutureWarning)\n"
          ],
          "name": "stderr"
        }
      ]
    },
    {
      "cell_type": "code",
      "metadata": {
        "colab": {
          "base_uri": "https://localhost:8080/",
          "height": 226
        },
        "id": "iV1Qse2cjvus",
        "outputId": "b12c9813-1f02-41c9-f047-db7ad0efd086"
      },
      "source": [
        "# Access dataset\n",
        "url = 'https://raw.githubusercontent.com/yohanesnuwara/datasets/master/bank-full-encoded.csv'\n",
        "\n",
        "df = pd.read_csv(url)\n",
        "\n",
        "df.head()"
      ],
      "execution_count": 2,
      "outputs": [
        {
          "output_type": "execute_result",
          "data": {
            "text/html": [
              "<div>\n",
              "<style scoped>\n",
              "    .dataframe tbody tr th:only-of-type {\n",
              "        vertical-align: middle;\n",
              "    }\n",
              "\n",
              "    .dataframe tbody tr th {\n",
              "        vertical-align: top;\n",
              "    }\n",
              "\n",
              "    .dataframe thead th {\n",
              "        text-align: right;\n",
              "    }\n",
              "</style>\n",
              "<table border=\"1\" class=\"dataframe\">\n",
              "  <thead>\n",
              "    <tr style=\"text-align: right;\">\n",
              "      <th></th>\n",
              "      <th>age</th>\n",
              "      <th>job</th>\n",
              "      <th>marital</th>\n",
              "      <th>education</th>\n",
              "      <th>default</th>\n",
              "      <th>balance</th>\n",
              "      <th>housing</th>\n",
              "      <th>loan</th>\n",
              "      <th>contact</th>\n",
              "      <th>day</th>\n",
              "      <th>month</th>\n",
              "      <th>duration</th>\n",
              "      <th>campaign</th>\n",
              "      <th>pdays</th>\n",
              "      <th>previous</th>\n",
              "      <th>poutcome</th>\n",
              "      <th>y</th>\n",
              "    </tr>\n",
              "  </thead>\n",
              "  <tbody>\n",
              "    <tr>\n",
              "      <th>0</th>\n",
              "      <td>40</td>\n",
              "      <td>4</td>\n",
              "      <td>1</td>\n",
              "      <td>2</td>\n",
              "      <td>0</td>\n",
              "      <td>3036</td>\n",
              "      <td>1</td>\n",
              "      <td>0</td>\n",
              "      <td>2</td>\n",
              "      <td>4</td>\n",
              "      <td>8</td>\n",
              "      <td>261</td>\n",
              "      <td>0</td>\n",
              "      <td>0</td>\n",
              "      <td>0</td>\n",
              "      <td>3</td>\n",
              "      <td>0</td>\n",
              "    </tr>\n",
              "    <tr>\n",
              "      <th>1</th>\n",
              "      <td>26</td>\n",
              "      <td>9</td>\n",
              "      <td>2</td>\n",
              "      <td>1</td>\n",
              "      <td>0</td>\n",
              "      <td>945</td>\n",
              "      <td>1</td>\n",
              "      <td>0</td>\n",
              "      <td>2</td>\n",
              "      <td>4</td>\n",
              "      <td>8</td>\n",
              "      <td>151</td>\n",
              "      <td>0</td>\n",
              "      <td>0</td>\n",
              "      <td>0</td>\n",
              "      <td>3</td>\n",
              "      <td>0</td>\n",
              "    </tr>\n",
              "    <tr>\n",
              "      <th>2</th>\n",
              "      <td>15</td>\n",
              "      <td>2</td>\n",
              "      <td>1</td>\n",
              "      <td>1</td>\n",
              "      <td>0</td>\n",
              "      <td>918</td>\n",
              "      <td>1</td>\n",
              "      <td>1</td>\n",
              "      <td>2</td>\n",
              "      <td>4</td>\n",
              "      <td>8</td>\n",
              "      <td>76</td>\n",
              "      <td>0</td>\n",
              "      <td>0</td>\n",
              "      <td>0</td>\n",
              "      <td>3</td>\n",
              "      <td>0</td>\n",
              "    </tr>\n",
              "    <tr>\n",
              "      <th>3</th>\n",
              "      <td>29</td>\n",
              "      <td>1</td>\n",
              "      <td>1</td>\n",
              "      <td>3</td>\n",
              "      <td>0</td>\n",
              "      <td>2420</td>\n",
              "      <td>1</td>\n",
              "      <td>0</td>\n",
              "      <td>2</td>\n",
              "      <td>4</td>\n",
              "      <td>8</td>\n",
              "      <td>92</td>\n",
              "      <td>0</td>\n",
              "      <td>0</td>\n",
              "      <td>0</td>\n",
              "      <td>3</td>\n",
              "      <td>0</td>\n",
              "    </tr>\n",
              "    <tr>\n",
              "      <th>4</th>\n",
              "      <td>15</td>\n",
              "      <td>11</td>\n",
              "      <td>2</td>\n",
              "      <td>3</td>\n",
              "      <td>0</td>\n",
              "      <td>917</td>\n",
              "      <td>0</td>\n",
              "      <td>0</td>\n",
              "      <td>2</td>\n",
              "      <td>4</td>\n",
              "      <td>8</td>\n",
              "      <td>198</td>\n",
              "      <td>0</td>\n",
              "      <td>0</td>\n",
              "      <td>0</td>\n",
              "      <td>3</td>\n",
              "      <td>0</td>\n",
              "    </tr>\n",
              "  </tbody>\n",
              "</table>\n",
              "</div>"
            ],
            "text/plain": [
              "   age  job  marital  education  ...  pdays  previous  poutcome  y\n",
              "0   40    4        1          2  ...      0         0         3  0\n",
              "1   26    9        2          1  ...      0         0         3  0\n",
              "2   15    2        1          1  ...      0         0         3  0\n",
              "3   29    1        1          3  ...      0         0         3  0\n",
              "4   15   11        2          3  ...      0         0         3  0\n",
              "\n",
              "[5 rows x 17 columns]"
            ]
          },
          "metadata": {
            "tags": []
          },
          "execution_count": 2
        }
      ]
    },
    {
      "cell_type": "markdown",
      "metadata": {
        "id": "bgyzeSSis-YM"
      },
      "source": [
        "Plot the pie chart of target labels."
      ]
    },
    {
      "cell_type": "code",
      "metadata": {
        "colab": {
          "base_uri": "https://localhost:8080/",
          "height": 264
        },
        "id": "YcGRlY-5kenH",
        "outputId": "0a156a0e-9e73-456c-b282-0cbcea7db2dc"
      },
      "source": [
        "df.y.value_counts().plot(kind='pie', autopct='%1.1f%%', explode=(0,0.1))\n",
        "plt.title('Target Label')\n",
        "plt.show()"
      ],
      "execution_count": 3,
      "outputs": [
        {
          "output_type": "display_data",
          "data": {
            "image/png": "[encoded data removed]",
            "text/plain": [
              "<Figure size 432x288 with 1 Axes>"
            ]
          },
          "metadata": {
            "tags": []
          }
        }
      ]
    },
    {
      "cell_type": "markdown",
      "metadata": {
        "id": "BsjWghO9PWet"
      },
      "source": [
        "## Random Undersampling\n",
        "\n",
        "Undersampling is used to resample majority data (data with more samples)."
      ]
    },
    {
      "cell_type": "code",
      "metadata": {
        "colab": {
          "base_uri": "https://localhost:8080/"
        },
        "id": "CjV3vgIkmPsH",
        "outputId": "1a6b8e67-39ad-4801-c3ca-8aa47818c7fa"
      },
      "source": [
        "# Separating the independent variables from dependent variables\n",
        "X = df.iloc[:,:-1]\n",
        "y = df.iloc[:,-1]\n",
        "\n",
        "# Split train-test data\n",
        "X_train, X_test, y_train, y_test = train_test_split(X,y,test_size=0.30)\n",
        "\n",
        "# summarize class distribution\n",
        "print(\"Before undersampling: \", Counter(y_train))\n",
        "\n",
        "# define undersampling strategy\n",
        "undersample = RandomUnderSampler(sampling_strategy='majority')\n",
        "\n",
        "# fit and apply the transform\n",
        "X_train_under, y_train_under = undersample.fit_resample(X_train, y_train)\n",
        "\n",
        "# summarize class distribution\n",
        "print(\"After undersampling: \", Counter(y_train_under))"
      ],
      "execution_count": 4,
      "outputs": [
        {
          "output_type": "stream",
          "text": [
            "Before undersampling:  Counter({0: 28007, 1: 3640})\n",
            "After undersampling:  Counter({0: 3640, 1: 3640})\n"
          ],
          "name": "stdout"
        }
      ]
    },
    {
      "cell_type": "markdown",
      "metadata": {
        "id": "GdaLf1eJrxxY"
      },
      "source": [
        "Fit AdaBoost classifier to data before undersampling."
      ]
    },
    {
      "cell_type": "code",
      "metadata": {
        "colab": {
          "base_uri": "https://localhost:8080/"
        },
        "id": "fYoyswF-nxy_",
        "outputId": "86a674ad-cde0-403d-9cf3-17ae193f4689"
      },
      "source": [
        "model = AdaBoostClassifier()\n",
        "cv = RepeatedStratifiedKFold(n_splits=10, n_repeats=3, random_state=1)\n",
        "\n",
        "# Evaluate model\n",
        "scoring = ['accuracy', 'precision_macro', 'recall_macro']\n",
        "scores_ori = cross_validate(model, X_train, y_train, \n",
        "                            scoring=scoring, cv=cv, n_jobs=-1)\n",
        "\n",
        "# summarize performance\n",
        "print('Mean Accuracy: %.4f' % np.mean(scores_ori['test_accuracy']))\n",
        "print('Mean Precision: %.4f' % np.mean(scores_ori['test_precision_macro']))\n",
        "print('Mean Recall: %.4f' % np.mean(scores_ori['test_recall_macro']))"
      ],
      "execution_count": 5,
      "outputs": [
        {
          "output_type": "stream",
          "text": [
            "Mean Accuracy: 0.8977\n",
            "Mean Precision: 0.7581\n",
            "Mean Recall: 0.6556\n"
          ],
          "name": "stdout"
        }
      ]
    },
    {
      "cell_type": "markdown",
      "metadata": {
        "id": "Qxk5pRjNsAy-"
      },
      "source": [
        "Fit AdaBoost classifier to data after undersampling. This takes much shorter time to train, because amount of data reduces after undersampling."
      ]
    },
    {
      "cell_type": "code",
      "metadata": {
        "colab": {
          "base_uri": "https://localhost:8080/"
        },
        "id": "LW1zBWRioia5",
        "outputId": "6636eae0-b65a-45f7-f00a-2555063f48d0"
      },
      "source": [
        "scores_under = cross_validate(model, X_train_under, y_train_under, \n",
        "                            scoring=scoring, cv=cv, n_jobs=-1)\n",
        "\n",
        "# summarize performance\n",
        "print('Mean Accuracy: %.4f' % np.mean(scores_under['test_accuracy']))\n",
        "print('Mean Precision: %.4f' % np.mean(scores_under['test_precision_macro']))\n",
        "print('Mean Recall: %.4f' % np.mean(scores_under['test_recall_macro']))"
      ],
      "execution_count": 6,
      "outputs": [
        {
          "output_type": "stream",
          "text": [
            "Mean Accuracy: 0.8239\n",
            "Mean Precision: 0.8241\n",
            "Mean Recall: 0.8239\n"
          ],
          "name": "stdout"
        }
      ]
    },
    {
      "cell_type": "markdown",
      "metadata": {
        "id": "eFiDBOZZsDaE"
      },
      "source": [
        "A very huge jump of Recall from 0.65 to 0.83, meaning that the model is much getting better in predicting the minority class, even though Accuracy slightly decreases from 0.89 to 0.83."
      ]
    },
    {
      "cell_type": "markdown",
      "metadata": {
        "id": "VMqQQPWPOXoj"
      },
      "source": [
        "## Oversampling with SMOTE"
      ]
    },
    {
      "cell_type": "code",
      "metadata": {
        "id": "u-Bu8W_B6Wqr",
        "colab": {
          "base_uri": "https://localhost:8080/"
        },
        "outputId": "28a211e7-2b30-4ace-cd4f-2d6eb5f42a9f"
      },
      "source": [
        "# Separating the independent variables from dependent variables\n",
        "X = df.iloc[:,:-1]\n",
        "y = df.iloc[:,-1]\n",
        "\n",
        "# Split train-test data\n",
        "X_train, X_test, y_train, y_test = train_test_split(X,y,test_size=0.30)\n",
        "\n",
        "# summarize class distribution\n",
        "print(\"Before undersampling: \", Counter(y_train))\n",
        "\n",
        "# define undersampling strategy\n",
        "smote = SMOTE()\n",
        "\n",
        "# fit and apply the transform\n",
        "X_train_over, y_train_over = smote.fit_resample(X_train, y_train)\n",
        "\n",
        "# summarize class distribution\n",
        "print(\"After oversampling: \", Counter(y_train_over))"
      ],
      "execution_count": 7,
      "outputs": [
        {
          "output_type": "stream",
          "text": [
            "Before undersampling:  Counter({0: 27999, 1: 3648})\n",
            "After oversampling:  Counter({1: 27999, 0: 27999})\n"
          ],
          "name": "stdout"
        }
      ]
    },
    {
      "cell_type": "markdown",
      "metadata": {
        "id": "hRyB7lDDWJtT"
      },
      "source": [
        "Fit the same AdaBoost model to the oversampled data. This takes much longer time to train, because amount of data increases after oversampling."
      ]
    },
    {
      "cell_type": "code",
      "metadata": {
        "colab": {
          "base_uri": "https://localhost:8080/"
        },
        "id": "-hXCxDqeS_r8",
        "outputId": "c6d12bfe-07fd-4fab-9064-539884bf1263"
      },
      "source": [
        "scores_over = cross_validate(model, X_train_over, y_train_over, \n",
        "                            scoring=scoring, cv=cv, n_jobs=-1)\n",
        "\n",
        "# summarize performance\n",
        "print('Mean Accuracy: %.4f' % np.mean(scores_over['test_accuracy']))\n",
        "print('Mean Precision: %.4f' % np.mean(scores_over['test_precision_macro']))\n",
        "print('Mean Recall: %.4f' % np.mean(scores_over['test_recall_macro']))"
      ],
      "execution_count": 8,
      "outputs": [
        {
          "output_type": "stream",
          "text": [
            "Mean Accuracy: 0.8797\n",
            "Mean Precision: 0.8800\n",
            "Mean Recall: 0.8797\n"
          ],
          "name": "stdout"
        }
      ]
    },
    {
      "cell_type": "markdown",
      "metadata": {
        "id": "sisU5-tBWSDR"
      },
      "source": [
        "Shocking result! Recall and Accuracy get higher than when model is applied on undersampled data. 0.88 vs. 0.83. This means, oversampling is a better strategy for this data. "
      ]
    },
    {
      "cell_type": "markdown",
      "metadata": {
        "id": "p7aenKL-6h0J"
      },
      "source": [
        "## Combination"
      ]
    },
    {
      "cell_type": "markdown",
      "metadata": {
        "id": "mdnshMKhe1LR"
      },
      "source": [
        "We can also combine undersampling and oversampling process in a pipeline."
      ]
    },
    {
      "cell_type": "code",
      "metadata": {
        "id": "i2MtGut_6kNV"
      },
      "source": [
        "model = AdaBoostClassifier()\n",
        "under = RandomUnderSampler(sampling_strategy=0.5)\n",
        "over = SMOTE(sampling_strategy=0.4)\n",
        "\n",
        "# Put into pipeline\n",
        "steps = [('o', over), ('u', under), ('model', model)]\n",
        "pipe = Pipeline(steps=steps)"
      ],
      "execution_count": 9,
      "outputs": []
    },
    {
      "cell_type": "markdown",
      "metadata": {
        "id": "JQYB0NE-dv9n"
      },
      "source": [
        "Fit the pipeline."
      ]
    },
    {
      "cell_type": "code",
      "metadata": {
        "colab": {
          "base_uri": "https://localhost:8080/"
        },
        "id": "_rjGf4_idyO5",
        "outputId": "7e5807a2-c8f3-43ec-cecb-c7e146466cb3"
      },
      "source": [
        "scores_pipe = cross_validate(pipe, X_train, y_train, \n",
        "                            scoring=scoring, cv=cv, n_jobs=-1)\n",
        "\n",
        "# summarize performance\n",
        "print('Mean Accuracy: %.4f' % np.mean(scores_pipe['test_accuracy']))\n",
        "print('Mean Precision: %.4f' % np.mean(scores_pipe['test_precision_macro']))\n",
        "print('Mean Recall: %.4f' % np.mean(scores_pipe['test_recall_macro']))"
      ],
      "execution_count": 10,
      "outputs": [
        {
          "output_type": "stream",
          "text": [
            "Mean Accuracy: 0.8741\n",
            "Mean Precision: 0.7046\n",
            "Mean Recall: 0.7516\n"
          ],
          "name": "stdout"
        }
      ]
    },
    {
      "cell_type": "markdown",
      "metadata": {
        "id": "7SVfZEjVeM06"
      },
      "source": [
        "Using pipeline, Recall 0.75 is no better than the previous strategies of undersampling and oversampling. "
      ]
    },
    {
      "cell_type": "markdown",
      "metadata": {
        "id": "fKbJYX1Xe8eu"
      },
      "source": [
        "## Determine best sampling ratios"
      ]
    },
    {
      "cell_type": "markdown",
      "metadata": {
        "id": "3K2UJI5-fA3c"
      },
      "source": [
        "Previously, we use combination of undersampling with 0.5 sampling ratio and oversampling with 0.4 sampling ratio, and we get not enough good result. We can search the best ratios and use ROC AUC as metric.  "
      ]
    },
    {
      "cell_type": "code",
      "metadata": {
        "colab": {
          "base_uri": "https://localhost:8080/"
        },
        "id": "-h8fqZDPfr30",
        "outputId": "2e352612-c719-4683-ccc3-5e68c41d7e89"
      },
      "source": [
        "# values to evaluate\n",
        "over_values = [0.3, 0.4, 0.5]\n",
        "under_values = [0.7, 0.6, 0.5]\n",
        "\n",
        "for o in over_values:\n",
        "  for u in under_values:\n",
        "    # define pipeline\n",
        "    model = AdaBoostClassifier()\n",
        "    over = SMOTE(sampling_strategy=o)\n",
        "    under = RandomUnderSampler(sampling_strategy=u)\n",
        "    steps = [('over', over), ('under', under), ('model', model)]\n",
        "    pipeline = Pipeline(steps=steps)\n",
        "\n",
        "    # evaluate pipeline\n",
        "    scores = cross_val_score(pipeline, X_train, y_train, \n",
        "                             scoring='roc_auc', cv=5, n_jobs=-1)\n",
        "    score = np.mean(scores)\n",
        "    print('SMOTE oversampling rate:%.1f, Random undersampling rate:%.1f , Mean ROC AUC: %.3f' % (o, u, score))"
      ],
      "execution_count": 11,
      "outputs": [
        {
          "output_type": "stream",
          "text": [
            "SMOTE oversampling rate:0.3, Random undersampling rate:0.7 , Mean ROC AUC: 0.886\n",
            "SMOTE oversampling rate:0.3, Random undersampling rate:0.6 , Mean ROC AUC: 0.888\n",
            "SMOTE oversampling rate:0.3, Random undersampling rate:0.5 , Mean ROC AUC: 0.889\n",
            "SMOTE oversampling rate:0.4, Random undersampling rate:0.7 , Mean ROC AUC: 0.883\n",
            "SMOTE oversampling rate:0.4, Random undersampling rate:0.6 , Mean ROC AUC: 0.883\n",
            "SMOTE oversampling rate:0.4, Random undersampling rate:0.5 , Mean ROC AUC: 0.882\n",
            "SMOTE oversampling rate:0.5, Random undersampling rate:0.7 , Mean ROC AUC: 0.878\n",
            "SMOTE oversampling rate:0.5, Random undersampling rate:0.6 , Mean ROC AUC: 0.879\n",
            "SMOTE oversampling rate:0.5, Random undersampling rate:0.5 , Mean ROC AUC: 0.879\n"
          ],
          "name": "stdout"
        }
      ]
    },
    {
      "cell_type": "markdown",
      "metadata": {
        "id": "CP_rGrRkhfrh"
      },
      "source": [
        "Reviewing the above result, the best combination is undersampling 0.3 and oversampling 0.6, which results an ROC AUC score of 0.893. "
      ]
    },
    {
      "cell_type": "markdown",
      "metadata": {
        "id": "vY61pgX76W9W"
      },
      "source": [
        "References:\n",
        "* https://towardsdatascience.com/how-to-deal-with-imbalanced-data-in-python-f9b71aba53eb\n",
        "* https://towardsdatascience.com/imbalanced-classification-in-python-smote-enn-method-db5db06b8d50"
      ]
    }
  ]
}