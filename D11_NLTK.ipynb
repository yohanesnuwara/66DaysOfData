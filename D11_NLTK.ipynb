{
  "nbformat": 4,
  "nbformat_minor": 0,
  "metadata": {
    "colab": {
      "name": "D11_NLTK.ipynb",
      "provenance": [],
      "collapsed_sections": [],
      "authorship_tag": "ABX9TyOH9+mmPTJU8uCM3Fntgs4D",
      "include_colab_link": true
    },
    "kernelspec": {
      "name": "python3",
      "display_name": "Python 3"
    },
    "language_info": {
      "name": "python"
    }
  },
  "cells": [
    {
      "cell_type": "markdown",
      "metadata": {
        "id": "view-in-github",
        "colab_type": "text"
      },
      "source": [
        "<a href=\"https://colab.research.google.com/github/yohanesnuwara/66DaysOfData/blob/main/D11_NLTK.ipynb\" target=\"_parent\"><img src=\"https://colab.research.google.com/assets/colab-badge.svg\" alt=\"Open In Colab\"/></a>"
      ]
    },
    {
      "cell_type": "markdown",
      "metadata": {
        "id": "xUWZ0mqmaQWS"
      },
      "source": [
        "# Natural Language Processing with NLTK"
      ]
    },
    {
      "cell_type": "code",
      "metadata": {
        "colab": {
          "base_uri": "https://localhost:8080/"
        },
        "id": "9y7HD-FD7GRy",
        "outputId": "1e7c108b-06df-4879-a66e-aa49fc8e067c"
      },
      "source": [
        "import nltk\n",
        "nltk.download('punkt')\n",
        "nltk.download('averaged_perceptron_tagger')\n",
        "nltk.download('wordnet')\n",
        "\n",
        "from nltk.stem import PorterStemmer, WordNetLemmatizer\n",
        "from nltk.tokenize import sent_tokenize, word_tokenize\n",
        "from nltk.draw import TreeWidget\n",
        "from nltk.draw.util import CanvasFrame"
      ],
      "execution_count": 1,
      "outputs": [
        {
          "output_type": "stream",
          "text": [
            "[nltk_data] Downloading package punkt to /root/nltk_data...\n",
            "[nltk_data]   Unzipping tokenizers/punkt.zip.\n",
            "[nltk_data] Downloading package averaged_perceptron_tagger to\n",
            "[nltk_data]     /root/nltk_data...\n",
            "[nltk_data]   Unzipping taggers/averaged_perceptron_tagger.zip.\n",
            "[nltk_data] Downloading package wordnet to /root/nltk_data...\n",
            "[nltk_data]   Unzipping corpora/wordnet.zip.\n"
          ],
          "name": "stdout"
        }
      ]
    },
    {
      "cell_type": "code",
      "metadata": {
        "id": "fsZlgQKD7QGn"
      },
      "source": [
        "example_string = 'The rest of Hugin Formation which was water filled, showing very low resistivities < 0.05 ohmm in the best sands, is reflecting the very saline formation water in Volve (~ 130000 ppm). This might indicate that Hugin Formation never has been oil filled, and that the two observed oil pockets are results of hydrocarbon migration. Hugin Formation properties seem to be poorer than in Hugin Formation in previous Volve wells, with an average porosity of 0.17.'"
      ],
      "execution_count": 2,
      "outputs": []
    },
    {
      "cell_type": "code",
      "metadata": {
        "colab": {
          "base_uri": "https://localhost:8080/"
        },
        "id": "dRkJmw5F8GV0",
        "outputId": "0c38a3bd-e7a5-4ca7-fd20-c5eaeec068b3"
      },
      "source": [
        "sent_tokenize(example_string)"
      ],
      "execution_count": 3,
      "outputs": [
        {
          "output_type": "execute_result",
          "data": {
            "text/plain": [
              "['The rest of Hugin Formation which was water filled, showing very low resistivities < 0.05 ohmm in the best sands, is reflecting the very saline formation water in Volve (~ 130000 ppm).',\n",
              " 'This might indicate that Hugin Formation never has been oil filled, and that the two observed oil pockets are results of hydrocarbon migration.',\n",
              " 'Hugin Formation properties seem to be poorer than in Hugin Formation in previous Volve wells, with an average porosity of 0.17.']"
            ]
          },
          "metadata": {
            "tags": []
          },
          "execution_count": 3
        }
      ]
    },
    {
      "cell_type": "code",
      "metadata": {
        "colab": {
          "base_uri": "https://localhost:8080/"
        },
        "id": "QTdT0Q_g8iSJ",
        "outputId": "e4ad8c7d-0d26-4f49-8903-14c3d130cd4f"
      },
      "source": [
        "words = word_tokenize(example_string)\n",
        "words"
      ],
      "execution_count": 4,
      "outputs": [
        {
          "output_type": "execute_result",
          "data": {
            "text/plain": [
              "['The',\n",
              " 'rest',\n",
              " 'of',\n",
              " 'Hugin',\n",
              " 'Formation',\n",
              " 'which',\n",
              " 'was',\n",
              " 'water',\n",
              " 'filled',\n",
              " ',',\n",
              " 'showing',\n",
              " 'very',\n",
              " 'low',\n",
              " 'resistivities',\n",
              " '<',\n",
              " '0.05',\n",
              " 'ohmm',\n",
              " 'in',\n",
              " 'the',\n",
              " 'best',\n",
              " 'sands',\n",
              " ',',\n",
              " 'is',\n",
              " 'reflecting',\n",
              " 'the',\n",
              " 'very',\n",
              " 'saline',\n",
              " 'formation',\n",
              " 'water',\n",
              " 'in',\n",
              " 'Volve',\n",
              " '(',\n",
              " '~',\n",
              " '130000',\n",
              " 'ppm',\n",
              " ')',\n",
              " '.',\n",
              " 'This',\n",
              " 'might',\n",
              " 'indicate',\n",
              " 'that',\n",
              " 'Hugin',\n",
              " 'Formation',\n",
              " 'never',\n",
              " 'has',\n",
              " 'been',\n",
              " 'oil',\n",
              " 'filled',\n",
              " ',',\n",
              " 'and',\n",
              " 'that',\n",
              " 'the',\n",
              " 'two',\n",
              " 'observed',\n",
              " 'oil',\n",
              " 'pockets',\n",
              " 'are',\n",
              " 'results',\n",
              " 'of',\n",
              " 'hydrocarbon',\n",
              " 'migration',\n",
              " '.',\n",
              " 'Hugin',\n",
              " 'Formation',\n",
              " 'properties',\n",
              " 'seem',\n",
              " 'to',\n",
              " 'be',\n",
              " 'poorer',\n",
              " 'than',\n",
              " 'in',\n",
              " 'Hugin',\n",
              " 'Formation',\n",
              " 'in',\n",
              " 'previous',\n",
              " 'Volve',\n",
              " 'wells',\n",
              " ',',\n",
              " 'with',\n",
              " 'an',\n",
              " 'average',\n",
              " 'porosity',\n",
              " 'of',\n",
              " '0.17',\n",
              " '.']"
            ]
          },
          "metadata": {
            "tags": []
          },
          "execution_count": 4
        }
      ]
    },
    {
      "cell_type": "markdown",
      "metadata": {
        "id": "Xm6kOH52BvAP"
      },
      "source": [
        "## Stemming"
      ]
    },
    {
      "cell_type": "code",
      "metadata": {
        "colab": {
          "base_uri": "https://localhost:8080/"
        },
        "id": "0W35nUwV8ndT",
        "outputId": "1b111734-6f09-48cd-a623-c4273dd0ad02"
      },
      "source": [
        "stemmer = PorterStemmer()\n",
        "\n",
        "stemmed_words = [stemmer.stem(word) for word in words]\n",
        "stemmed_words"
      ],
      "execution_count": 5,
      "outputs": [
        {
          "output_type": "execute_result",
          "data": {
            "text/plain": [
              "['the',\n",
              " 'rest',\n",
              " 'of',\n",
              " 'hugin',\n",
              " 'format',\n",
              " 'which',\n",
              " 'wa',\n",
              " 'water',\n",
              " 'fill',\n",
              " ',',\n",
              " 'show',\n",
              " 'veri',\n",
              " 'low',\n",
              " 'resist',\n",
              " '<',\n",
              " '0.05',\n",
              " 'ohmm',\n",
              " 'in',\n",
              " 'the',\n",
              " 'best',\n",
              " 'sand',\n",
              " ',',\n",
              " 'is',\n",
              " 'reflect',\n",
              " 'the',\n",
              " 'veri',\n",
              " 'salin',\n",
              " 'format',\n",
              " 'water',\n",
              " 'in',\n",
              " 'volv',\n",
              " '(',\n",
              " '~',\n",
              " '130000',\n",
              " 'ppm',\n",
              " ')',\n",
              " '.',\n",
              " 'thi',\n",
              " 'might',\n",
              " 'indic',\n",
              " 'that',\n",
              " 'hugin',\n",
              " 'format',\n",
              " 'never',\n",
              " 'ha',\n",
              " 'been',\n",
              " 'oil',\n",
              " 'fill',\n",
              " ',',\n",
              " 'and',\n",
              " 'that',\n",
              " 'the',\n",
              " 'two',\n",
              " 'observ',\n",
              " 'oil',\n",
              " 'pocket',\n",
              " 'are',\n",
              " 'result',\n",
              " 'of',\n",
              " 'hydrocarbon',\n",
              " 'migrat',\n",
              " '.',\n",
              " 'hugin',\n",
              " 'format',\n",
              " 'properti',\n",
              " 'seem',\n",
              " 'to',\n",
              " 'be',\n",
              " 'poorer',\n",
              " 'than',\n",
              " 'in',\n",
              " 'hugin',\n",
              " 'format',\n",
              " 'in',\n",
              " 'previou',\n",
              " 'volv',\n",
              " 'well',\n",
              " ',',\n",
              " 'with',\n",
              " 'an',\n",
              " 'averag',\n",
              " 'poros',\n",
              " 'of',\n",
              " '0.17',\n",
              " '.']"
            ]
          },
          "metadata": {
            "tags": []
          },
          "execution_count": 5
        }
      ]
    },
    {
      "cell_type": "markdown",
      "metadata": {
        "id": "MGTFCcqfU1l-"
      },
      "source": [
        "## Part-of-Speech (POS) Tagging"
      ]
    },
    {
      "cell_type": "code",
      "metadata": {
        "colab": {
          "base_uri": "https://localhost:8080/"
        },
        "id": "0hn1U02TVdts",
        "outputId": "4300683c-3598-4af7-c6b6-627c29d8bcda"
      },
      "source": [
        "nltk.pos_tag(words)"
      ],
      "execution_count": 6,
      "outputs": [
        {
          "output_type": "execute_result",
          "data": {
            "text/plain": [
              "[('The', 'DT'),\n",
              " ('rest', 'NN'),\n",
              " ('of', 'IN'),\n",
              " ('Hugin', 'NNP'),\n",
              " ('Formation', 'NNP'),\n",
              " ('which', 'WDT'),\n",
              " ('was', 'VBD'),\n",
              " ('water', 'NN'),\n",
              " ('filled', 'VBN'),\n",
              " (',', ','),\n",
              " ('showing', 'VBG'),\n",
              " ('very', 'RB'),\n",
              " ('low', 'JJ'),\n",
              " ('resistivities', 'NNS'),\n",
              " ('<', 'VBP'),\n",
              " ('0.05', 'CD'),\n",
              " ('ohmm', 'NN'),\n",
              " ('in', 'IN'),\n",
              " ('the', 'DT'),\n",
              " ('best', 'JJS'),\n",
              " ('sands', 'NNS'),\n",
              " (',', ','),\n",
              " ('is', 'VBZ'),\n",
              " ('reflecting', 'VBG'),\n",
              " ('the', 'DT'),\n",
              " ('very', 'RB'),\n",
              " ('saline', 'JJ'),\n",
              " ('formation', 'NN'),\n",
              " ('water', 'NN'),\n",
              " ('in', 'IN'),\n",
              " ('Volve', 'NNP'),\n",
              " ('(', '('),\n",
              " ('~', '$'),\n",
              " ('130000', 'CD'),\n",
              " ('ppm', 'NN'),\n",
              " (')', ')'),\n",
              " ('.', '.'),\n",
              " ('This', 'DT'),\n",
              " ('might', 'MD'),\n",
              " ('indicate', 'VB'),\n",
              " ('that', 'IN'),\n",
              " ('Hugin', 'NNP'),\n",
              " ('Formation', 'NNP'),\n",
              " ('never', 'RB'),\n",
              " ('has', 'VBZ'),\n",
              " ('been', 'VBN'),\n",
              " ('oil', 'NN'),\n",
              " ('filled', 'VBN'),\n",
              " (',', ','),\n",
              " ('and', 'CC'),\n",
              " ('that', 'IN'),\n",
              " ('the', 'DT'),\n",
              " ('two', 'CD'),\n",
              " ('observed', 'JJ'),\n",
              " ('oil', 'NN'),\n",
              " ('pockets', 'NNS'),\n",
              " ('are', 'VBP'),\n",
              " ('results', 'NNS'),\n",
              " ('of', 'IN'),\n",
              " ('hydrocarbon', 'JJ'),\n",
              " ('migration', 'NN'),\n",
              " ('.', '.'),\n",
              " ('Hugin', 'NNP'),\n",
              " ('Formation', 'NNP'),\n",
              " ('properties', 'NNS'),\n",
              " ('seem', 'VBP'),\n",
              " ('to', 'TO'),\n",
              " ('be', 'VB'),\n",
              " ('poorer', 'JJR'),\n",
              " ('than', 'IN'),\n",
              " ('in', 'IN'),\n",
              " ('Hugin', 'NNP'),\n",
              " ('Formation', 'NNP'),\n",
              " ('in', 'IN'),\n",
              " ('previous', 'JJ'),\n",
              " ('Volve', 'NNP'),\n",
              " ('wells', 'NNS'),\n",
              " (',', ','),\n",
              " ('with', 'IN'),\n",
              " ('an', 'DT'),\n",
              " ('average', 'JJ'),\n",
              " ('porosity', 'NN'),\n",
              " ('of', 'IN'),\n",
              " ('0.17', 'CD'),\n",
              " ('.', '.')]"
            ]
          },
          "metadata": {
            "tags": []
          },
          "execution_count": 6
        }
      ]
    },
    {
      "cell_type": "markdown",
      "metadata": {
        "id": "PBtpeL9CV90B"
      },
      "source": [
        "## Lemmatization"
      ]
    },
    {
      "cell_type": "code",
      "metadata": {
        "colab": {
          "base_uri": "https://localhost:8080/"
        },
        "id": "YJMR29feV_tL",
        "outputId": "c8577ee0-6497-4ac9-fd4a-815d7347ba1a"
      },
      "source": [
        "statement = 'I have some beautifully woven scarves.'\n",
        "words2 = word_tokenize(statement)\n",
        "\n",
        "lemmatizer = WordNetLemmatizer()\n",
        "\n",
        "# Lemmatizing noun\n",
        "lemmatized_words = [lemmatizer.lemmatize(word, pos='n') for word in words2]\n",
        "print(lemmatized_words) # scarves to scarf\n",
        "\n",
        "# Lemmatizing verb\n",
        "lemmatized_words = [lemmatizer.lemmatize(word, pos='v') for word in words2]\n",
        "print(lemmatized_words) # woven to weave"
      ],
      "execution_count": 7,
      "outputs": [
        {
          "output_type": "stream",
          "text": [
            "['I', 'have', 'some', 'beautifully', 'woven', 'scarf', '.']\n",
            "['I', 'have', 'some', 'beautifully', 'weave', 'scarves', '.']\n"
          ],
          "name": "stdout"
        }
      ]
    },
    {
      "cell_type": "markdown",
      "metadata": {
        "id": "4o1VQOIIZvMB"
      },
      "source": [
        "## Chunking"
      ]
    },
    {
      "cell_type": "code",
      "metadata": {
        "colab": {
          "base_uri": "https://localhost:8080/",
          "height": 346
        },
        "id": "NU4XeMbDZwXl",
        "outputId": "e6ecc7c7-f80c-4aad-d7a7-97e33e6e1e75"
      },
      "source": [
        "statement = 'The formation has some resistive sands which is very porous.'\n",
        "\n",
        "words3 = word_tokenize(statement)\n",
        "pos_tagged = nltk.pos_tag(words3)\n",
        "\n",
        "# Focus on: some resistive sands, as DT, JJ, NNS after POS tagging\n",
        "grammar = \"NP: {<DT>?<JJ>*<NNS>}\"\n",
        "chunk_parser = nltk.RegexpParser(grammar)\n",
        "chunks = chunk_parser.parse(pos_tagged)\n",
        "\n",
        "chunks.draw()"
      ],
      "execution_count": 8,
      "outputs": [
        {
          "output_type": "error",
          "ename": "TclError",
          "evalue": "ignored",
          "traceback": [
            "\u001b[0;31m---------------------------------------------------------------------------\u001b[0m",
            "\u001b[0;31mTclError\u001b[0m                                  Traceback (most recent call last)",
            "\u001b[0;32m<ipython-input-8-f2d01dc51d02>\u001b[0m in \u001b[0;36m<module>\u001b[0;34m()\u001b[0m\n\u001b[1;32m      9\u001b[0m \u001b[0mchunks\u001b[0m \u001b[0;34m=\u001b[0m \u001b[0mchunk_parser\u001b[0m\u001b[0;34m.\u001b[0m\u001b[0mparse\u001b[0m\u001b[0;34m(\u001b[0m\u001b[0mpos_tagged\u001b[0m\u001b[0;34m)\u001b[0m\u001b[0;34m\u001b[0m\u001b[0;34m\u001b[0m\u001b[0m\n\u001b[1;32m     10\u001b[0m \u001b[0;34m\u001b[0m\u001b[0m\n\u001b[0;32m---> 11\u001b[0;31m \u001b[0mchunks\u001b[0m\u001b[0;34m.\u001b[0m\u001b[0mdraw\u001b[0m\u001b[0;34m(\u001b[0m\u001b[0;34m)\u001b[0m\u001b[0;34m\u001b[0m\u001b[0;34m\u001b[0m\u001b[0m\n\u001b[0m",
            "\u001b[0;32m/usr/local/lib/python3.7/dist-packages/nltk/tree.py\u001b[0m in \u001b[0;36mdraw\u001b[0;34m(self)\u001b[0m\n\u001b[1;32m    688\u001b[0m         \"\"\"\n\u001b[1;32m    689\u001b[0m         \u001b[0;32mfrom\u001b[0m \u001b[0mnltk\u001b[0m\u001b[0;34m.\u001b[0m\u001b[0mdraw\u001b[0m\u001b[0;34m.\u001b[0m\u001b[0mtree\u001b[0m \u001b[0;32mimport\u001b[0m \u001b[0mdraw_trees\u001b[0m\u001b[0;34m\u001b[0m\u001b[0;34m\u001b[0m\u001b[0m\n\u001b[0;32m--> 690\u001b[0;31m         \u001b[0mdraw_trees\u001b[0m\u001b[0;34m(\u001b[0m\u001b[0mself\u001b[0m\u001b[0;34m)\u001b[0m\u001b[0;34m\u001b[0m\u001b[0;34m\u001b[0m\u001b[0m\n\u001b[0m\u001b[1;32m    691\u001b[0m \u001b[0;34m\u001b[0m\u001b[0m\n\u001b[1;32m    692\u001b[0m     \u001b[0;32mdef\u001b[0m \u001b[0mpretty_print\u001b[0m\u001b[0;34m(\u001b[0m\u001b[0mself\u001b[0m\u001b[0;34m,\u001b[0m \u001b[0msentence\u001b[0m\u001b[0;34m=\u001b[0m\u001b[0;32mNone\u001b[0m\u001b[0;34m,\u001b[0m \u001b[0mhighlight\u001b[0m\u001b[0;34m=\u001b[0m\u001b[0;34m(\u001b[0m\u001b[0;34m)\u001b[0m\u001b[0;34m,\u001b[0m \u001b[0mstream\u001b[0m\u001b[0;34m=\u001b[0m\u001b[0;32mNone\u001b[0m\u001b[0;34m,\u001b[0m \u001b[0;34m**\u001b[0m\u001b[0mkwargs\u001b[0m\u001b[0;34m)\u001b[0m\u001b[0;34m:\u001b[0m\u001b[0;34m\u001b[0m\u001b[0;34m\u001b[0m\u001b[0m\n",
            "\u001b[0;32m/usr/local/lib/python3.7/dist-packages/nltk/draw/tree.py\u001b[0m in \u001b[0;36mdraw_trees\u001b[0;34m(*trees)\u001b[0m\n\u001b[1;32m    861\u001b[0m     \u001b[0;34m:\u001b[0m\u001b[0mrtype\u001b[0m\u001b[0;34m:\u001b[0m \u001b[0;32mNone\u001b[0m\u001b[0;34m\u001b[0m\u001b[0;34m\u001b[0m\u001b[0m\n\u001b[1;32m    862\u001b[0m     \"\"\"\n\u001b[0;32m--> 863\u001b[0;31m     \u001b[0mTreeView\u001b[0m\u001b[0;34m(\u001b[0m\u001b[0;34m*\u001b[0m\u001b[0mtrees\u001b[0m\u001b[0;34m)\u001b[0m\u001b[0;34m.\u001b[0m\u001b[0mmainloop\u001b[0m\u001b[0;34m(\u001b[0m\u001b[0;34m)\u001b[0m\u001b[0;34m\u001b[0m\u001b[0;34m\u001b[0m\u001b[0m\n\u001b[0m\u001b[1;32m    864\u001b[0m     \u001b[0;32mreturn\u001b[0m\u001b[0;34m\u001b[0m\u001b[0;34m\u001b[0m\u001b[0m\n\u001b[1;32m    865\u001b[0m \u001b[0;34m\u001b[0m\u001b[0m\n",
            "\u001b[0;32m/usr/local/lib/python3.7/dist-packages/nltk/draw/tree.py\u001b[0m in \u001b[0;36m__init__\u001b[0;34m(self, *trees)\u001b[0m\n\u001b[1;32m    754\u001b[0m         \u001b[0mself\u001b[0m\u001b[0;34m.\u001b[0m\u001b[0m_trees\u001b[0m \u001b[0;34m=\u001b[0m \u001b[0mtrees\u001b[0m\u001b[0;34m\u001b[0m\u001b[0;34m\u001b[0m\u001b[0m\n\u001b[1;32m    755\u001b[0m \u001b[0;34m\u001b[0m\u001b[0m\n\u001b[0;32m--> 756\u001b[0;31m         \u001b[0mself\u001b[0m\u001b[0;34m.\u001b[0m\u001b[0m_top\u001b[0m \u001b[0;34m=\u001b[0m \u001b[0mTk\u001b[0m\u001b[0;34m(\u001b[0m\u001b[0;34m)\u001b[0m\u001b[0;34m\u001b[0m\u001b[0;34m\u001b[0m\u001b[0m\n\u001b[0m\u001b[1;32m    757\u001b[0m         \u001b[0mself\u001b[0m\u001b[0;34m.\u001b[0m\u001b[0m_top\u001b[0m\u001b[0;34m.\u001b[0m\u001b[0mtitle\u001b[0m\u001b[0;34m(\u001b[0m\u001b[0;34m'NLTK'\u001b[0m\u001b[0;34m)\u001b[0m\u001b[0;34m\u001b[0m\u001b[0;34m\u001b[0m\u001b[0m\n\u001b[1;32m    758\u001b[0m         \u001b[0mself\u001b[0m\u001b[0;34m.\u001b[0m\u001b[0m_top\u001b[0m\u001b[0;34m.\u001b[0m\u001b[0mbind\u001b[0m\u001b[0;34m(\u001b[0m\u001b[0;34m'<Control-x>'\u001b[0m\u001b[0;34m,\u001b[0m \u001b[0mself\u001b[0m\u001b[0;34m.\u001b[0m\u001b[0mdestroy\u001b[0m\u001b[0;34m)\u001b[0m\u001b[0;34m\u001b[0m\u001b[0;34m\u001b[0m\u001b[0m\n",
            "\u001b[0;32m/usr/lib/python3.7/tkinter/__init__.py\u001b[0m in \u001b[0;36m__init__\u001b[0;34m(self, screenName, baseName, className, useTk, sync, use)\u001b[0m\n\u001b[1;32m   2021\u001b[0m                 \u001b[0mbaseName\u001b[0m \u001b[0;34m=\u001b[0m \u001b[0mbaseName\u001b[0m \u001b[0;34m+\u001b[0m \u001b[0mext\u001b[0m\u001b[0;34m\u001b[0m\u001b[0;34m\u001b[0m\u001b[0m\n\u001b[1;32m   2022\u001b[0m         \u001b[0minteractive\u001b[0m \u001b[0;34m=\u001b[0m \u001b[0;36m0\u001b[0m\u001b[0;34m\u001b[0m\u001b[0;34m\u001b[0m\u001b[0m\n\u001b[0;32m-> 2023\u001b[0;31m         \u001b[0mself\u001b[0m\u001b[0;34m.\u001b[0m\u001b[0mtk\u001b[0m \u001b[0;34m=\u001b[0m \u001b[0m_tkinter\u001b[0m\u001b[0;34m.\u001b[0m\u001b[0mcreate\u001b[0m\u001b[0;34m(\u001b[0m\u001b[0mscreenName\u001b[0m\u001b[0;34m,\u001b[0m \u001b[0mbaseName\u001b[0m\u001b[0;34m,\u001b[0m \u001b[0mclassName\u001b[0m\u001b[0;34m,\u001b[0m \u001b[0minteractive\u001b[0m\u001b[0;34m,\u001b[0m \u001b[0mwantobjects\u001b[0m\u001b[0;34m,\u001b[0m \u001b[0museTk\u001b[0m\u001b[0;34m,\u001b[0m \u001b[0msync\u001b[0m\u001b[0;34m,\u001b[0m \u001b[0muse\u001b[0m\u001b[0;34m)\u001b[0m\u001b[0;34m\u001b[0m\u001b[0;34m\u001b[0m\u001b[0m\n\u001b[0m\u001b[1;32m   2024\u001b[0m         \u001b[0;32mif\u001b[0m \u001b[0museTk\u001b[0m\u001b[0;34m:\u001b[0m\u001b[0;34m\u001b[0m\u001b[0;34m\u001b[0m\u001b[0m\n\u001b[1;32m   2025\u001b[0m             \u001b[0mself\u001b[0m\u001b[0;34m.\u001b[0m\u001b[0m_loadtk\u001b[0m\u001b[0;34m(\u001b[0m\u001b[0;34m)\u001b[0m\u001b[0;34m\u001b[0m\u001b[0;34m\u001b[0m\u001b[0m\n",
            "\u001b[0;31mTclError\u001b[0m: no display name and no $DISPLAY environment variable"
          ]
        }
      ]
    },
    {
      "cell_type": "markdown",
      "metadata": {
        "id": "gChyYZjafMMU"
      },
      "source": [
        "References:\n",
        "\n",
        "* https://realpython.com/nltk-nlp-python/"
      ]
    }
  ]
}