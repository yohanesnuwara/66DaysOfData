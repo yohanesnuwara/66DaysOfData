{
  "nbformat": 4,
  "nbformat_minor": 0,
  "metadata": {
    "colab": {
      "name": "D05_data_leakage.ipynb",
      "provenance": [],
      "collapsed_sections": [],
      "authorship_tag": "ABX9TyPCEQaeEAj8YCYfm6/fjW1A",
      "include_colab_link": true
    },
    "kernelspec": {
      "name": "python3",
      "display_name": "Python 3"
    },
    "language_info": {
      "name": "python"
    }
  },
  "cells": [
    {
      "cell_type": "markdown",
      "metadata": {
        "id": "view-in-github",
        "colab_type": "text"
      },
      "source": [
        "<a href=\"https://colab.research.google.com/github/yohanesnuwara/66DaysOfData/blob/main/D05_data_leakage.ipynb\" target=\"_parent\"><img src=\"https://colab.research.google.com/assets/colab-badge.svg\" alt=\"Open In Colab\"/></a>"
      ]
    },
    {
      "cell_type": "markdown",
      "metadata": {
        "id": "tPLseuKZRWVl"
      },
      "source": [
        "# Data leakage"
      ]
    },
    {
      "cell_type": "markdown",
      "metadata": {
        "id": "cLDcHapV7D90"
      },
      "source": [
        "A problem in ML. Data leakage makes model to be overly optimistic. \n",
        "\n",
        "Causes of data leakage:\n",
        "\n",
        "* Leaky predictors\n",
        "* Incorrect data preparation (train-test split)\n",
        "* Not cross-validated or incorrect cross-validation"
      ]
    },
    {
      "cell_type": "code",
      "metadata": {
        "id": "ubS14YmsRPfd"
      },
      "source": [
        "import numpy as np\n",
        "import matplotlib.pyplot as plt\n",
        "import pandas as pd\n",
        "\n",
        "from sklearn.pipeline import make_pipeline, Pipeline\n",
        "from sklearn.ensemble import RandomForestClassifier\n",
        "from sklearn.model_selection import train_test_split, cross_val_score, RepeatedStratifiedKFold\n",
        "from sklearn.preprocessing import MinMaxScaler\n",
        "from sklearn.impute import SimpleImputer\n",
        "from sklearn.metrics import accuracy_score"
      ],
      "execution_count": 1,
      "outputs": []
    },
    {
      "cell_type": "markdown",
      "metadata": {
        "id": "Xsly9wuj-vZ-"
      },
      "source": [
        "## Leakage because of predictor"
      ]
    },
    {
      "cell_type": "markdown",
      "metadata": {
        "id": "S_CEAkPbUfUu"
      },
      "source": [
        "Consider this:\n",
        "\n",
        "![image](https://user-images.githubusercontent.com/51282928/124861505-e9e81680-dfdd-11eb-9266-84bf90a31300.png)"
      ]
    },
    {
      "cell_type": "markdown",
      "metadata": {
        "id": "Q18n_rFlVWyE"
      },
      "source": [
        "We will use credit card data."
      ]
    },
    {
      "cell_type": "code",
      "metadata": {
        "colab": {
          "base_uri": "https://localhost:8080/",
          "height": 423
        },
        "id": "xlJKb7KH-zLG",
        "outputId": "fd233e96-7190-41bd-f2a6-6edd9f56d63b"
      },
      "source": [
        "path = 'https://raw.githubusercontent.com/yohanesnuwara/datasets/master/AER_credit_card_data.csv'\n",
        "\n",
        "data = pd.read_csv(path, true_values=['yes'], false_values=['no'])\n",
        "data"
      ],
      "execution_count": 2,
      "outputs": [
        {
          "output_type": "execute_result",
          "data": {
            "text/html": [
              "<div>\n",
              "<style scoped>\n",
              "    .dataframe tbody tr th:only-of-type {\n",
              "        vertical-align: middle;\n",
              "    }\n",
              "\n",
              "    .dataframe tbody tr th {\n",
              "        vertical-align: top;\n",
              "    }\n",
              "\n",
              "    .dataframe thead th {\n",
              "        text-align: right;\n",
              "    }\n",
              "</style>\n",
              "<table border=\"1\" class=\"dataframe\">\n",
              "  <thead>\n",
              "    <tr style=\"text-align: right;\">\n",
              "      <th></th>\n",
              "      <th>card</th>\n",
              "      <th>reports</th>\n",
              "      <th>age</th>\n",
              "      <th>income</th>\n",
              "      <th>share</th>\n",
              "      <th>expenditure</th>\n",
              "      <th>owner</th>\n",
              "      <th>selfemp</th>\n",
              "      <th>dependents</th>\n",
              "      <th>months</th>\n",
              "      <th>majorcards</th>\n",
              "      <th>active</th>\n",
              "    </tr>\n",
              "  </thead>\n",
              "  <tbody>\n",
              "    <tr>\n",
              "      <th>0</th>\n",
              "      <td>True</td>\n",
              "      <td>0</td>\n",
              "      <td>37.66667</td>\n",
              "      <td>4.5200</td>\n",
              "      <td>0.033270</td>\n",
              "      <td>124.983300</td>\n",
              "      <td>True</td>\n",
              "      <td>False</td>\n",
              "      <td>3</td>\n",
              "      <td>54</td>\n",
              "      <td>1</td>\n",
              "      <td>12</td>\n",
              "    </tr>\n",
              "    <tr>\n",
              "      <th>1</th>\n",
              "      <td>True</td>\n",
              "      <td>0</td>\n",
              "      <td>33.25000</td>\n",
              "      <td>2.4200</td>\n",
              "      <td>0.005217</td>\n",
              "      <td>9.854167</td>\n",
              "      <td>False</td>\n",
              "      <td>False</td>\n",
              "      <td>3</td>\n",
              "      <td>34</td>\n",
              "      <td>1</td>\n",
              "      <td>13</td>\n",
              "    </tr>\n",
              "    <tr>\n",
              "      <th>2</th>\n",
              "      <td>True</td>\n",
              "      <td>0</td>\n",
              "      <td>33.66667</td>\n",
              "      <td>4.5000</td>\n",
              "      <td>0.004156</td>\n",
              "      <td>15.000000</td>\n",
              "      <td>True</td>\n",
              "      <td>False</td>\n",
              "      <td>4</td>\n",
              "      <td>58</td>\n",
              "      <td>1</td>\n",
              "      <td>5</td>\n",
              "    </tr>\n",
              "    <tr>\n",
              "      <th>3</th>\n",
              "      <td>True</td>\n",
              "      <td>0</td>\n",
              "      <td>30.50000</td>\n",
              "      <td>2.5400</td>\n",
              "      <td>0.065214</td>\n",
              "      <td>137.869200</td>\n",
              "      <td>False</td>\n",
              "      <td>False</td>\n",
              "      <td>0</td>\n",
              "      <td>25</td>\n",
              "      <td>1</td>\n",
              "      <td>7</td>\n",
              "    </tr>\n",
              "    <tr>\n",
              "      <th>4</th>\n",
              "      <td>True</td>\n",
              "      <td>0</td>\n",
              "      <td>32.16667</td>\n",
              "      <td>9.7867</td>\n",
              "      <td>0.067051</td>\n",
              "      <td>546.503300</td>\n",
              "      <td>True</td>\n",
              "      <td>False</td>\n",
              "      <td>2</td>\n",
              "      <td>64</td>\n",
              "      <td>1</td>\n",
              "      <td>5</td>\n",
              "    </tr>\n",
              "    <tr>\n",
              "      <th>...</th>\n",
              "      <td>...</td>\n",
              "      <td>...</td>\n",
              "      <td>...</td>\n",
              "      <td>...</td>\n",
              "      <td>...</td>\n",
              "      <td>...</td>\n",
              "      <td>...</td>\n",
              "      <td>...</td>\n",
              "      <td>...</td>\n",
              "      <td>...</td>\n",
              "      <td>...</td>\n",
              "      <td>...</td>\n",
              "    </tr>\n",
              "    <tr>\n",
              "      <th>1314</th>\n",
              "      <td>True</td>\n",
              "      <td>0</td>\n",
              "      <td>33.58333</td>\n",
              "      <td>4.5660</td>\n",
              "      <td>0.002146</td>\n",
              "      <td>7.333333</td>\n",
              "      <td>True</td>\n",
              "      <td>False</td>\n",
              "      <td>0</td>\n",
              "      <td>94</td>\n",
              "      <td>1</td>\n",
              "      <td>19</td>\n",
              "    </tr>\n",
              "    <tr>\n",
              "      <th>1315</th>\n",
              "      <td>False</td>\n",
              "      <td>5</td>\n",
              "      <td>23.91667</td>\n",
              "      <td>3.1920</td>\n",
              "      <td>0.000376</td>\n",
              "      <td>0.000000</td>\n",
              "      <td>False</td>\n",
              "      <td>False</td>\n",
              "      <td>3</td>\n",
              "      <td>12</td>\n",
              "      <td>1</td>\n",
              "      <td>5</td>\n",
              "    </tr>\n",
              "    <tr>\n",
              "      <th>1316</th>\n",
              "      <td>True</td>\n",
              "      <td>0</td>\n",
              "      <td>40.58333</td>\n",
              "      <td>4.6000</td>\n",
              "      <td>0.026513</td>\n",
              "      <td>101.298300</td>\n",
              "      <td>True</td>\n",
              "      <td>False</td>\n",
              "      <td>2</td>\n",
              "      <td>1</td>\n",
              "      <td>1</td>\n",
              "      <td>2</td>\n",
              "    </tr>\n",
              "    <tr>\n",
              "      <th>1317</th>\n",
              "      <td>True</td>\n",
              "      <td>0</td>\n",
              "      <td>32.83333</td>\n",
              "      <td>3.7000</td>\n",
              "      <td>0.008999</td>\n",
              "      <td>26.996670</td>\n",
              "      <td>False</td>\n",
              "      <td>True</td>\n",
              "      <td>0</td>\n",
              "      <td>60</td>\n",
              "      <td>1</td>\n",
              "      <td>7</td>\n",
              "    </tr>\n",
              "    <tr>\n",
              "      <th>1318</th>\n",
              "      <td>True</td>\n",
              "      <td>0</td>\n",
              "      <td>48.25000</td>\n",
              "      <td>3.7000</td>\n",
              "      <td>0.111619</td>\n",
              "      <td>344.157500</td>\n",
              "      <td>True</td>\n",
              "      <td>False</td>\n",
              "      <td>2</td>\n",
              "      <td>2</td>\n",
              "      <td>1</td>\n",
              "      <td>0</td>\n",
              "    </tr>\n",
              "  </tbody>\n",
              "</table>\n",
              "<p>1319 rows × 12 columns</p>\n",
              "</div>"
            ],
            "text/plain": [
              "       card  reports       age  income  ...  dependents  months  majorcards  active\n",
              "0      True        0  37.66667  4.5200  ...           3      54           1      12\n",
              "1      True        0  33.25000  2.4200  ...           3      34           1      13\n",
              "2      True        0  33.66667  4.5000  ...           4      58           1       5\n",
              "3      True        0  30.50000  2.5400  ...           0      25           1       7\n",
              "4      True        0  32.16667  9.7867  ...           2      64           1       5\n",
              "...     ...      ...       ...     ...  ...         ...     ...         ...     ...\n",
              "1314   True        0  33.58333  4.5660  ...           0      94           1      19\n",
              "1315  False        5  23.91667  3.1920  ...           3      12           1       5\n",
              "1316   True        0  40.58333  4.6000  ...           2       1           1       2\n",
              "1317   True        0  32.83333  3.7000  ...           0      60           1       7\n",
              "1318   True        0  48.25000  3.7000  ...           2       2           1       0\n",
              "\n",
              "[1319 rows x 12 columns]"
            ]
          },
          "metadata": {
            "tags": []
          },
          "execution_count": 2
        }
      ]
    },
    {
      "cell_type": "markdown",
      "metadata": {
        "id": "JuO9PTZBTGKN"
      },
      "source": [
        "Then we fit with model. It results 98% accuracy."
      ]
    },
    {
      "cell_type": "code",
      "metadata": {
        "colab": {
          "base_uri": "https://localhost:8080/"
        },
        "id": "NWZ1uHUZS6lC",
        "outputId": "c312b6c6-e067-481d-9d4c-fdee420c9610"
      },
      "source": [
        "# Predictor and target\n",
        "y = data.card\n",
        "X = data.drop(['card'], axis=1)\n",
        "\n",
        "# Since there was no preprocessing, we didn't need a pipeline here. Used anyway as best practice\n",
        "modeling_pipeline = make_pipeline(RandomForestClassifier())\n",
        "cv_scores = cross_val_score(modeling_pipeline, X, y, scoring='accuracy')\n",
        "print(\"Cross-val accuracy: %f\" %cv_scores.mean())"
      ],
      "execution_count": 3,
      "outputs": [
        {
          "output_type": "stream",
          "text": [
            "Cross-val accuracy: 0.980294\n"
          ],
          "name": "stdout"
        }
      ]
    },
    {
      "cell_type": "markdown",
      "metadata": {
        "id": "GnGdFljCTKaj"
      },
      "source": [
        "This very high accuracy is a bit non sense. We can detect some leaky predictors. \n",
        "\n",
        "We suspect \"expenditure\" predictor, because \"expenditure\" is AT THE SAME TIME with credit card application, NOT BEFORE. Another one is \"share\". More explanation is [here](https://www.kaggle.com/dansbecker/data-leakage) \n",
        "\n",
        "So, we eliminate those leaky predictors. "
      ]
    },
    {
      "cell_type": "code",
      "metadata": {
        "colab": {
          "base_uri": "https://localhost:8080/"
        },
        "id": "qlQAZvgKiNR7",
        "outputId": "f72c932c-afac-4de1-d711-1df97f05459e"
      },
      "source": [
        "# Eliminating leaky predictors\n",
        "potential_leaks = ['expenditure', 'share', 'active', 'majorcards']\n",
        "data2 = data.drop(potential_leaks, axis=1)\n",
        "\n",
        "# Predictor and target\n",
        "y = data2.card\n",
        "X = data2.drop(['card'], axis=1)\n",
        "\n",
        "cv_scores = cross_val_score(modeling_pipeline, X, y, scoring='accuracy')\n",
        "\n",
        "print(\"Cross-val accuracy: %f\" %cv_scores.mean())"
      ],
      "execution_count": 4,
      "outputs": [
        {
          "output_type": "stream",
          "text": [
            "Cross-val accuracy: 0.833204\n"
          ],
          "name": "stdout"
        }
      ]
    },
    {
      "cell_type": "code",
      "metadata": {
        "id": "3K0nFDbxTyx-"
      },
      "source": [
        "# # Eliminating leaky predictors\n",
        "# potential_leaks = ['expenditure', 'share', 'active', 'majorcards']\n",
        "# X2 = X.drop(potential_leaks, axis=1)\n",
        "# cv_scores = cross_val_score(modeling_pipeline, X2, y, scoring='accuracy')\n",
        "\n",
        "# print(\"Cross-val accuracy: %f\" %cv_scores.mean())"
      ],
      "execution_count": 5,
      "outputs": []
    },
    {
      "cell_type": "markdown",
      "metadata": {
        "id": "Y4Lc1oKeT7-c"
      },
      "source": [
        "Although smaller, 83% accuracy is more trusted, because we have eliminated leakage, so model is not biased. "
      ]
    },
    {
      "cell_type": "markdown",
      "metadata": {
        "id": "rKgDMMJhS2OK"
      },
      "source": [
        "## Leakage caused by incorrect data preparation"
      ]
    },
    {
      "cell_type": "markdown",
      "metadata": {
        "id": "1ngeIlDQWdW5"
      },
      "source": [
        "Usually data preparation is done this order:\n",
        "1. Impute and normalize\n",
        "2. Train test split\n",
        "\n",
        "1 then 2, which is incorrect, causing leakage. Correct one is 2 then 1.\n",
        "\n",
        "See Josh Starmer's StatQuest video [here](https://www.youtube.com/watch?v=pSWRT9pObX0)"
      ]
    },
    {
      "cell_type": "markdown",
      "metadata": {
        "id": "ppiMx833IPH2"
      },
      "source": [
        "Simulate missing data."
      ]
    },
    {
      "cell_type": "code",
      "metadata": {
        "id": "fItm5vpDVnXb"
      },
      "source": [
        "def simulate_missing_data(df, number_of_nans):\n",
        "  df2 = df.copy()\n",
        "  column = df2.columns\n",
        "  seeds = np.arange(len(column)) + 5\n",
        "\n",
        "  for i in range(len(column)):\n",
        "    np.random.seed(seeds[i])\n",
        "    rand_nan_id = np.random.randint(len(df), size=number_of_nans)\n",
        "    for j in range(len(rand_nan_id)):\n",
        "      df2[column[i]].iloc[rand_nan_id[j],:] = np.nan  \n",
        "  return df2"
      ],
      "execution_count": 6,
      "outputs": []
    },
    {
      "cell_type": "code",
      "metadata": {
        "colab": {
          "base_uri": "https://localhost:8080/",
          "height": 399
        },
        "id": "KQPwwXvcWFNl",
        "outputId": "7f6e0518-0a8d-443e-ca3d-ff478c0eaae2"
      },
      "source": [
        "# Create synthetic missing data at random index\n",
        "data3 = simulate_missing_data(data2, 100)\n",
        "\n",
        "data3.head()"
      ],
      "execution_count": 7,
      "outputs": [
        {
          "output_type": "stream",
          "text": [
            "/usr/local/lib/python3.7/dist-packages/pandas/core/indexing.py:1781: SettingWithCopyWarning: \n",
            "A value is trying to be set on a copy of a slice from a DataFrame\n",
            "\n",
            "See the caveats in the documentation: https://pandas.pydata.org/pandas-docs/stable/user_guide/indexing.html#returning-a-view-versus-a-copy\n",
            "  self.obj[item_labels[indexer[info_axis]]] = value\n",
            "/usr/local/lib/python3.7/dist-packages/pandas/core/indexing.py:670: SettingWithCopyWarning: \n",
            "A value is trying to be set on a copy of a slice from a DataFrame\n",
            "\n",
            "See the caveats in the documentation: https://pandas.pydata.org/pandas-docs/stable/user_guide/indexing.html#returning-a-view-versus-a-copy\n",
            "  iloc._setitem_with_indexer(indexer, value)\n"
          ],
          "name": "stderr"
        },
        {
          "output_type": "execute_result",
          "data": {
            "text/html": [
              "<div>\n",
              "<style scoped>\n",
              "    .dataframe tbody tr th:only-of-type {\n",
              "        vertical-align: middle;\n",
              "    }\n",
              "\n",
              "    .dataframe tbody tr th {\n",
              "        vertical-align: top;\n",
              "    }\n",
              "\n",
              "    .dataframe thead th {\n",
              "        text-align: right;\n",
              "    }\n",
              "</style>\n",
              "<table border=\"1\" class=\"dataframe\">\n",
              "  <thead>\n",
              "    <tr style=\"text-align: right;\">\n",
              "      <th></th>\n",
              "      <th>card</th>\n",
              "      <th>reports</th>\n",
              "      <th>age</th>\n",
              "      <th>income</th>\n",
              "      <th>owner</th>\n",
              "      <th>selfemp</th>\n",
              "      <th>dependents</th>\n",
              "      <th>months</th>\n",
              "    </tr>\n",
              "  </thead>\n",
              "  <tbody>\n",
              "    <tr>\n",
              "      <th>0</th>\n",
              "      <td>1.0</td>\n",
              "      <td>0.0</td>\n",
              "      <td>37.66667</td>\n",
              "      <td>4.5200</td>\n",
              "      <td>1.0</td>\n",
              "      <td>0.0</td>\n",
              "      <td>3.0</td>\n",
              "      <td>54.0</td>\n",
              "    </tr>\n",
              "    <tr>\n",
              "      <th>1</th>\n",
              "      <td>1.0</td>\n",
              "      <td>0.0</td>\n",
              "      <td>33.25000</td>\n",
              "      <td>2.4200</td>\n",
              "      <td>NaN</td>\n",
              "      <td>0.0</td>\n",
              "      <td>NaN</td>\n",
              "      <td>34.0</td>\n",
              "    </tr>\n",
              "    <tr>\n",
              "      <th>2</th>\n",
              "      <td>1.0</td>\n",
              "      <td>0.0</td>\n",
              "      <td>33.66667</td>\n",
              "      <td>4.5000</td>\n",
              "      <td>1.0</td>\n",
              "      <td>0.0</td>\n",
              "      <td>4.0</td>\n",
              "      <td>58.0</td>\n",
              "    </tr>\n",
              "    <tr>\n",
              "      <th>3</th>\n",
              "      <td>1.0</td>\n",
              "      <td>0.0</td>\n",
              "      <td>30.50000</td>\n",
              "      <td>2.5400</td>\n",
              "      <td>0.0</td>\n",
              "      <td>0.0</td>\n",
              "      <td>0.0</td>\n",
              "      <td>25.0</td>\n",
              "    </tr>\n",
              "    <tr>\n",
              "      <th>4</th>\n",
              "      <td>1.0</td>\n",
              "      <td>0.0</td>\n",
              "      <td>32.16667</td>\n",
              "      <td>9.7867</td>\n",
              "      <td>1.0</td>\n",
              "      <td>NaN</td>\n",
              "      <td>2.0</td>\n",
              "      <td>64.0</td>\n",
              "    </tr>\n",
              "  </tbody>\n",
              "</table>\n",
              "</div>"
            ],
            "text/plain": [
              "   card  reports       age  income  owner  selfemp  dependents  months\n",
              "0   1.0      0.0  37.66667  4.5200    1.0      0.0         3.0    54.0\n",
              "1   1.0      0.0  33.25000  2.4200    NaN      0.0         NaN    34.0\n",
              "2   1.0      0.0  33.66667  4.5000    1.0      0.0         4.0    58.0\n",
              "3   1.0      0.0  30.50000  2.5400    0.0      0.0         0.0    25.0\n",
              "4   1.0      0.0  32.16667  9.7867    1.0      NaN         2.0    64.0"
            ]
          },
          "metadata": {
            "tags": []
          },
          "execution_count": 7
        }
      ]
    },
    {
      "cell_type": "code",
      "metadata": {
        "colab": {
          "base_uri": "https://localhost:8080/",
          "height": 442
        },
        "id": "xUa--0lTHoae",
        "outputId": "c524dc40-2323-40b5-d7d6-2b15a18a27a3"
      },
      "source": [
        "import missingno as msno\n",
        "\n",
        "msno.matrix(data3)"
      ],
      "execution_count": 8,
      "outputs": [
        {
          "output_type": "execute_result",
          "data": {
            "text/plain": [
              "<matplotlib.axes._subplots.AxesSubplot at 0x7f31e7331c10>"
            ]
          },
          "metadata": {
            "tags": []
          },
          "execution_count": 8
        },
        {
          "output_type": "display_data",
          "data": {
            "image/png": "[encoded data removed]",
            "text/plain": [
              "<Figure size 1800x720 with 2 Axes>"
            ]
          },
          "metadata": {
            "tags": [],
            "needs_background": "light"
          }
        }
      ]
    },
    {
      "cell_type": "markdown",
      "metadata": {
        "id": "q0HEOwJjW13R"
      },
      "source": [
        "Using incorrect workflow 1 then 2. Accuracy is 80.9%. "
      ]
    },
    {
      "cell_type": "code",
      "metadata": {
        "colab": {
          "base_uri": "https://localhost:8080/"
        },
        "id": "D0Wf0ai5JUP0",
        "outputId": "6fda9407-136b-4c61-a47f-bd5f5b675bd5"
      },
      "source": [
        "# drop NaN data in card (target) column\n",
        "data3 = data3.dropna(subset=['card'])\n",
        "\n",
        "y = data3.card\n",
        "X = data3.drop(['card'], axis=1)\n",
        "\n",
        "# imputing\n",
        "imp = SimpleImputer(missing_values=np.nan, strategy='mean')\n",
        "X = imp.fit_transform(X)\n",
        "\n",
        "# standardize the dataset\n",
        "scaler = MinMaxScaler()\n",
        "X = scaler.fit_transform(X)\n",
        "\n",
        "# split into train and test sets\n",
        "X_train, X_test, y_train, y_test = train_test_split(X, y, test_size=0.33, random_state=1)\n",
        "\n",
        "# fit the model\n",
        "model = RandomForestClassifier()\n",
        "model.fit(X_train, y_train)\n",
        "\n",
        "# evaluate the model\n",
        "yhat = model.predict(X_test)\n",
        "\n",
        "# evaluate predictions\n",
        "accuracy = accuracy_score(y_test, yhat)\n",
        "print('Accuracy: %.3f' % (accuracy*100))"
      ],
      "execution_count": 9,
      "outputs": [
        {
          "output_type": "stream",
          "text": [
            "Accuracy: 80.941\n"
          ],
          "name": "stdout"
        }
      ]
    },
    {
      "cell_type": "markdown",
      "metadata": {
        "id": "djqSDPjqXZ8X"
      },
      "source": [
        "Using the correct workflow 2 then 1. Accuracy is 81.6%."
      ]
    },
    {
      "cell_type": "code",
      "metadata": {
        "colab": {
          "base_uri": "https://localhost:8080/"
        },
        "id": "D6Sby67LPgWw",
        "outputId": "83094a61-ba47-451f-9b3e-7d717fa1220f"
      },
      "source": [
        "# drop NaN data in card (target) column\n",
        "data3 = data3.dropna(subset=['card'])\n",
        "\n",
        "y = data3.card\n",
        "X = data3.drop(['card'], axis=1)\n",
        "\n",
        "# split into train and test sets\n",
        "X_train, X_test, y_train, y_test = train_test_split(X, y, test_size=0.33, random_state=1)\n",
        "\n",
        "# impute\n",
        "imp = SimpleImputer(missing_values=np.nan, strategy='mean')\n",
        "imp.fit(X_train)\n",
        "\n",
        "X_train = imp.transform(X_train)\n",
        "X_test = imp.transform(X_test)\n",
        "\n",
        "# define the scaler\n",
        "scaler = MinMaxScaler()\n",
        "scaler.fit(X_train)\n",
        "\n",
        "X_train = scaler.transform(X_train)\n",
        "X_test = scaler.transform(X_test)\n",
        "\n",
        "# fit the model\n",
        "model = RandomForestClassifier()\n",
        "model.fit(X_train, y_train)\n",
        "\n",
        "# evaluate the model\n",
        "yhat = model.predict(X_test)\n",
        "\n",
        "# evaluate predictions\n",
        "accuracy = accuracy_score(y_test, yhat)\n",
        "print('Accuracy: %.3f' % (accuracy*100))"
      ],
      "execution_count": 10,
      "outputs": [
        {
          "output_type": "stream",
          "text": [
            "Accuracy: 81.683\n"
          ],
          "name": "stdout"
        }
      ]
    },
    {
      "cell_type": "markdown",
      "metadata": {
        "id": "1Wa6H2NokaZp"
      },
      "source": [
        "Accuracy without leakage is slightly better than accuracy with leakage. Performance has increased slightly. "
      ]
    },
    {
      "cell_type": "markdown",
      "metadata": {
        "id": "dfpML5M7X4A6"
      },
      "source": [
        "## Leakage caused by incorrect cross-validation"
      ]
    },
    {
      "cell_type": "markdown",
      "metadata": {
        "id": "vcCCRLMQaFVS"
      },
      "source": [
        "We used to do CV without using pipeline. This can cause leakage. Accuracy is 81.5%"
      ]
    },
    {
      "cell_type": "code",
      "metadata": {
        "colab": {
          "base_uri": "https://localhost:8080/"
        },
        "id": "nyfNbB8WHJAJ",
        "outputId": "446acb39-80d7-4e0f-a7e5-dd9f5ba20fc8"
      },
      "source": [
        "# drop NaN data in card (target) column\n",
        "data3 = data3.dropna(subset=['card'])\n",
        "\n",
        "y = data3.card\n",
        "X = data3.drop(['card'], axis=1)\n",
        "\n",
        "# imputing\n",
        "imp = SimpleImputer(missing_values=np.nan, strategy='mean')\n",
        "X = imp.fit_transform(X)\n",
        "\n",
        "# standardize the dataset\n",
        "scaler = MinMaxScaler()\n",
        "X = scaler.fit_transform(X)\n",
        "\n",
        "# define the evaluation procedure\n",
        "cv = RepeatedStratifiedKFold(n_splits=10, n_repeats=3, random_state=1)\n",
        "\n",
        "# evaluate the model using cross-validation\n",
        "scores = cross_val_score(model, X, y, scoring='accuracy', cv=cv, n_jobs=-1)\n",
        "\n",
        "# report performance\n",
        "print('Accuracy: %.3f (%.3f)' % (np.mean(scores)*100, np.std(scores)*100))"
      ],
      "execution_count": 11,
      "outputs": [
        {
          "output_type": "stream",
          "text": [
            "Accuracy: 81.178 (2.106)\n"
          ],
          "name": "stdout"
        }
      ]
    },
    {
      "cell_type": "markdown",
      "metadata": {
        "id": "nyXPxjdxbZQC"
      },
      "source": [
        "We use Pipeline to avoid leakage. Accuracy is 81.2%"
      ]
    },
    {
      "cell_type": "code",
      "metadata": {
        "colab": {
          "base_uri": "https://localhost:8080/"
        },
        "id": "v2hLY5y-Q20t",
        "outputId": "d966b44e-8438-4a5f-c0f2-198fbf647335"
      },
      "source": [
        "# drop NaN data in card (target) column\n",
        "data3 = data3.dropna(subset=['card'])\n",
        "\n",
        "y = data3.card\n",
        "X = data3.drop(['card'], axis=1)\n",
        "\n",
        "# define the pipeline\n",
        "steps = list()\n",
        "steps.append(('imputer', SimpleImputer(missing_values=np.nan, strategy='mean')))\n",
        "steps.append(('scaler', MinMaxScaler()))\n",
        "steps.append(('model', RandomForestClassifier()))\n",
        "pipeline = Pipeline(steps=steps)\n",
        "\n",
        "# define the evaluation procedure\n",
        "cv = RepeatedStratifiedKFold(n_splits=10, n_repeats=3, random_state=1)\n",
        "\n",
        "# evaluate the model using cross-validation\n",
        "scores = cross_val_score(pipeline, X, y, scoring='accuracy', cv=cv, n_jobs=-1)\n",
        "\n",
        "# report performance\n",
        "print('Accuracy: %.3f (%.3f)' % (np.mean(scores)*100, np.std(scores)*100))"
      ],
      "execution_count": 12,
      "outputs": [
        {
          "output_type": "stream",
          "text": [
            "Accuracy: 81.315 (2.080)\n"
          ],
          "name": "stdout"
        }
      ]
    },
    {
      "cell_type": "markdown",
      "metadata": {
        "id": "TceJu5xbk7b-"
      },
      "source": [
        "Both accuracies are very close. But we already know that Pipelining reduces chance of leakage."
      ]
    },
    {
      "cell_type": "markdown",
      "metadata": {
        "id": "A_MbCfURRSVt"
      },
      "source": [
        "References:\n",
        "* https://www.kaggle.com/dansbecker/data-leakage\n",
        "* https://machinelearningmastery.com/data-preparation-without-data-leakage/\n",
        "* https://towardsdatascience.com/pre-process-data-with-pipeline-to-prevent-data-leakage-during-cross-validation-e3442cca7fdc\n",
        "* Other resources:\n",
        "  * Josh Starmer's StatQuest video [here](https://www.youtube.com/watch?v=pSWRT9pObX0) \n",
        "  * Explanation on data leakage from University of Michigan: https://python-data-science.readthedocs.io/en/latest/dataleakage.html\n",
        "  * https://analyticsindiamag.com/what-is-data-leakage-in-ml-why-should-you-be-concerned/"
      ]
    }
  ]
}