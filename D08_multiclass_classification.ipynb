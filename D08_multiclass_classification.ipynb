{
  "nbformat": 4,
  "nbformat_minor": 0,
  "metadata": {
    "colab": {
      "name": "D08_multiclass_classification.ipynb",
      "provenance": [],
      "collapsed_sections": [],
      "authorship_tag": "ABX9TyPICwrRxcMzTYd62qkJzx6m",
      "include_colab_link": true
    },
    "kernelspec": {
      "name": "python3",
      "display_name": "Python 3"
    },
    "language_info": {
      "name": "python"
    }
  },
  "cells": [
    {
      "cell_type": "markdown",
      "metadata": {
        "id": "view-in-github",
        "colab_type": "text"
      },
      "source": [
        "<a href=\"https://colab.research.google.com/github/yohanesnuwara/66DaysOfData/blob/main/D08_multiclass_classification.ipynb\" target=\"_parent\"><img src=\"https://colab.research.google.com/assets/colab-badge.svg\" alt=\"Open In Colab\"/></a>"
      ]
    },
    {
      "cell_type": "markdown",
      "metadata": {
        "id": "-wC2L3zmv3Oe"
      },
      "source": [
        "# Multiclass Classification"
      ]
    },
    {
      "cell_type": "markdown",
      "metadata": {
        "id": "-gqHAnpsxuXq"
      },
      "source": [
        "I would like to review various metrics for multiclass classification: Precision, Recall, Accuracy, F1 score, ROC AUC, Cohen's Kappa, Matthew's Correlation Coefficient, and Log loss."
      ]
    },
    {
      "cell_type": "code",
      "metadata": {
        "id": "_BixQz37v0CM"
      },
      "source": [
        "import numpy as np\n",
        "import pandas as pd\n",
        "import matplotlib.pyplot as plt\n",
        "\n",
        "from sklearn.datasets import make_classification\n",
        "from sklearn.metrics import plot_confusion_matrix, classification_report\n",
        "from sklearn.metrics import roc_auc_score, cohen_kappa_score, matthews_corrcoef\n",
        "from sklearn.metrics import log_loss, roc_curve, auc\n",
        "from sklearn.model_selection import train_test_split\n",
        "from sklearn.compose import ColumnTransformer\n",
        "from sklearn.ensemble import RandomForestClassifier\n",
        "from sklearn.pipeline import Pipeline, make_pipeline\n",
        "from sklearn.preprocessing import OneHotEncoder, PowerTransformer, StandardScaler\n",
        "from sklearn.multiclass import OneVsRestClassifier"
      ],
      "execution_count": 1,
      "outputs": []
    },
    {
      "cell_type": "markdown",
      "metadata": {
        "id": "I9uLMCJphxlc"
      },
      "source": [
        "Access diamonds dataset."
      ]
    },
    {
      "cell_type": "code",
      "metadata": {
        "colab": {
          "base_uri": "https://localhost:8080/",
          "height": 206
        },
        "id": "KquCVn0jdunZ",
        "outputId": "f2d822b6-6e4e-48cd-bbcd-2f7fd5b52cb6"
      },
      "source": [
        "url = 'https://raw.githubusercontent.com/yohanesnuwara/datasets/master/diamonds.csv'\n",
        "\n",
        "df = pd.read_csv(url)\n",
        "df.head()"
      ],
      "execution_count": 2,
      "outputs": [
        {
          "output_type": "execute_result",
          "data": {
            "text/html": [
              "<div>\n",
              "<style scoped>\n",
              "    .dataframe tbody tr th:only-of-type {\n",
              "        vertical-align: middle;\n",
              "    }\n",
              "\n",
              "    .dataframe tbody tr th {\n",
              "        vertical-align: top;\n",
              "    }\n",
              "\n",
              "    .dataframe thead th {\n",
              "        text-align: right;\n",
              "    }\n",
              "</style>\n",
              "<table border=\"1\" class=\"dataframe\">\n",
              "  <thead>\n",
              "    <tr style=\"text-align: right;\">\n",
              "      <th></th>\n",
              "      <th>carat</th>\n",
              "      <th>cut</th>\n",
              "      <th>color</th>\n",
              "      <th>clarity</th>\n",
              "      <th>depth</th>\n",
              "      <th>table</th>\n",
              "      <th>price</th>\n",
              "      <th>x</th>\n",
              "      <th>y</th>\n",
              "      <th>z</th>\n",
              "    </tr>\n",
              "  </thead>\n",
              "  <tbody>\n",
              "    <tr>\n",
              "      <th>0</th>\n",
              "      <td>0.23</td>\n",
              "      <td>Ideal</td>\n",
              "      <td>E</td>\n",
              "      <td>SI2</td>\n",
              "      <td>61.5</td>\n",
              "      <td>55.0</td>\n",
              "      <td>326</td>\n",
              "      <td>3.95</td>\n",
              "      <td>3.98</td>\n",
              "      <td>2.43</td>\n",
              "    </tr>\n",
              "    <tr>\n",
              "      <th>1</th>\n",
              "      <td>0.21</td>\n",
              "      <td>Premium</td>\n",
              "      <td>E</td>\n",
              "      <td>SI1</td>\n",
              "      <td>59.8</td>\n",
              "      <td>61.0</td>\n",
              "      <td>326</td>\n",
              "      <td>3.89</td>\n",
              "      <td>3.84</td>\n",
              "      <td>2.31</td>\n",
              "    </tr>\n",
              "    <tr>\n",
              "      <th>2</th>\n",
              "      <td>0.23</td>\n",
              "      <td>Good</td>\n",
              "      <td>E</td>\n",
              "      <td>VS1</td>\n",
              "      <td>56.9</td>\n",
              "      <td>65.0</td>\n",
              "      <td>327</td>\n",
              "      <td>4.05</td>\n",
              "      <td>4.07</td>\n",
              "      <td>2.31</td>\n",
              "    </tr>\n",
              "    <tr>\n",
              "      <th>3</th>\n",
              "      <td>0.29</td>\n",
              "      <td>Premium</td>\n",
              "      <td>I</td>\n",
              "      <td>VS2</td>\n",
              "      <td>62.4</td>\n",
              "      <td>58.0</td>\n",
              "      <td>334</td>\n",
              "      <td>4.20</td>\n",
              "      <td>4.23</td>\n",
              "      <td>2.63</td>\n",
              "    </tr>\n",
              "    <tr>\n",
              "      <th>4</th>\n",
              "      <td>0.31</td>\n",
              "      <td>Good</td>\n",
              "      <td>J</td>\n",
              "      <td>SI2</td>\n",
              "      <td>63.3</td>\n",
              "      <td>58.0</td>\n",
              "      <td>335</td>\n",
              "      <td>4.34</td>\n",
              "      <td>4.35</td>\n",
              "      <td>2.75</td>\n",
              "    </tr>\n",
              "  </tbody>\n",
              "</table>\n",
              "</div>"
            ],
            "text/plain": [
              "   carat      cut color clarity  depth  table  price     x     y     z\n",
              "0   0.23    Ideal     E     SI2   61.5   55.0    326  3.95  3.98  2.43\n",
              "1   0.21  Premium     E     SI1   59.8   61.0    326  3.89  3.84  2.31\n",
              "2   0.23     Good     E     VS1   56.9   65.0    327  4.05  4.07  2.31\n",
              "3   0.29  Premium     I     VS2   62.4   58.0    334  4.20  4.23  2.63\n",
              "4   0.31     Good     J     SI2   63.3   58.0    335  4.34  4.35  2.75"
            ]
          },
          "metadata": {
            "tags": []
          },
          "execution_count": 2
        }
      ]
    },
    {
      "cell_type": "code",
      "metadata": {
        "colab": {
          "base_uri": "https://localhost:8080/",
          "height": 268
        },
        "id": "8Mt2A-signJ1",
        "outputId": "9aead01b-98d9-457c-f6df-dd76b30ef9a2"
      },
      "source": [
        "df.describe().T.round(3)"
      ],
      "execution_count": 3,
      "outputs": [
        {
          "output_type": "execute_result",
          "data": {
            "text/html": [
              "<div>\n",
              "<style scoped>\n",
              "    .dataframe tbody tr th:only-of-type {\n",
              "        vertical-align: middle;\n",
              "    }\n",
              "\n",
              "    .dataframe tbody tr th {\n",
              "        vertical-align: top;\n",
              "    }\n",
              "\n",
              "    .dataframe thead th {\n",
              "        text-align: right;\n",
              "    }\n",
              "</style>\n",
              "<table border=\"1\" class=\"dataframe\">\n",
              "  <thead>\n",
              "    <tr style=\"text-align: right;\">\n",
              "      <th></th>\n",
              "      <th>count</th>\n",
              "      <th>mean</th>\n",
              "      <th>std</th>\n",
              "      <th>min</th>\n",
              "      <th>25%</th>\n",
              "      <th>50%</th>\n",
              "      <th>75%</th>\n",
              "      <th>max</th>\n",
              "    </tr>\n",
              "  </thead>\n",
              "  <tbody>\n",
              "    <tr>\n",
              "      <th>carat</th>\n",
              "      <td>53940.0</td>\n",
              "      <td>0.798</td>\n",
              "      <td>0.474</td>\n",
              "      <td>0.2</td>\n",
              "      <td>0.40</td>\n",
              "      <td>0.70</td>\n",
              "      <td>1.04</td>\n",
              "      <td>5.01</td>\n",
              "    </tr>\n",
              "    <tr>\n",
              "      <th>depth</th>\n",
              "      <td>53940.0</td>\n",
              "      <td>61.749</td>\n",
              "      <td>1.433</td>\n",
              "      <td>43.0</td>\n",
              "      <td>61.00</td>\n",
              "      <td>61.80</td>\n",
              "      <td>62.50</td>\n",
              "      <td>79.00</td>\n",
              "    </tr>\n",
              "    <tr>\n",
              "      <th>table</th>\n",
              "      <td>53940.0</td>\n",
              "      <td>57.457</td>\n",
              "      <td>2.234</td>\n",
              "      <td>43.0</td>\n",
              "      <td>56.00</td>\n",
              "      <td>57.00</td>\n",
              "      <td>59.00</td>\n",
              "      <td>95.00</td>\n",
              "    </tr>\n",
              "    <tr>\n",
              "      <th>price</th>\n",
              "      <td>53940.0</td>\n",
              "      <td>3932.800</td>\n",
              "      <td>3989.440</td>\n",
              "      <td>326.0</td>\n",
              "      <td>950.00</td>\n",
              "      <td>2401.00</td>\n",
              "      <td>5324.25</td>\n",
              "      <td>18823.00</td>\n",
              "    </tr>\n",
              "    <tr>\n",
              "      <th>x</th>\n",
              "      <td>53940.0</td>\n",
              "      <td>5.731</td>\n",
              "      <td>1.122</td>\n",
              "      <td>0.0</td>\n",
              "      <td>4.71</td>\n",
              "      <td>5.70</td>\n",
              "      <td>6.54</td>\n",
              "      <td>10.74</td>\n",
              "    </tr>\n",
              "    <tr>\n",
              "      <th>y</th>\n",
              "      <td>53940.0</td>\n",
              "      <td>5.735</td>\n",
              "      <td>1.142</td>\n",
              "      <td>0.0</td>\n",
              "      <td>4.72</td>\n",
              "      <td>5.71</td>\n",
              "      <td>6.54</td>\n",
              "      <td>58.90</td>\n",
              "    </tr>\n",
              "    <tr>\n",
              "      <th>z</th>\n",
              "      <td>53940.0</td>\n",
              "      <td>3.539</td>\n",
              "      <td>0.706</td>\n",
              "      <td>0.0</td>\n",
              "      <td>2.91</td>\n",
              "      <td>3.53</td>\n",
              "      <td>4.04</td>\n",
              "      <td>31.80</td>\n",
              "    </tr>\n",
              "  </tbody>\n",
              "</table>\n",
              "</div>"
            ],
            "text/plain": [
              "         count      mean       std    min     25%      50%      75%       max\n",
              "carat  53940.0     0.798     0.474    0.2    0.40     0.70     1.04      5.01\n",
              "depth  53940.0    61.749     1.433   43.0   61.00    61.80    62.50     79.00\n",
              "table  53940.0    57.457     2.234   43.0   56.00    57.00    59.00     95.00\n",
              "price  53940.0  3932.800  3989.440  326.0  950.00  2401.00  5324.25  18823.00\n",
              "x      53940.0     5.731     1.122    0.0    4.71     5.70     6.54     10.74\n",
              "y      53940.0     5.735     1.142    0.0    4.72     5.71     6.54     58.90\n",
              "z      53940.0     3.539     0.706    0.0    2.91     3.53     4.04     31.80"
            ]
          },
          "metadata": {
            "tags": []
          },
          "execution_count": 3
        }
      ]
    },
    {
      "cell_type": "markdown",
      "metadata": {
        "id": "8NJ9-2Sehlb7"
      },
      "source": [
        "The dataset consists of categorical and numerical features."
      ]
    },
    {
      "cell_type": "code",
      "metadata": {
        "colab": {
          "base_uri": "https://localhost:8080/"
        },
        "id": "bSxXPGg4hjFt",
        "outputId": "713ca676-fff4-4564-f125-98a81bf5c6c3"
      },
      "source": [
        "df.info()"
      ],
      "execution_count": 4,
      "outputs": [
        {
          "output_type": "stream",
          "text": [
            "<class 'pandas.core.frame.DataFrame'>\n",
            "RangeIndex: 53940 entries, 0 to 53939\n",
            "Data columns (total 10 columns):\n",
            " #   Column   Non-Null Count  Dtype  \n",
            "---  ------   --------------  -----  \n",
            " 0   carat    53940 non-null  float64\n",
            " 1   cut      53940 non-null  object \n",
            " 2   color    53940 non-null  object \n",
            " 3   clarity  53940 non-null  object \n",
            " 4   depth    53940 non-null  float64\n",
            " 5   table    53940 non-null  float64\n",
            " 6   price    53940 non-null  int64  \n",
            " 7   x        53940 non-null  float64\n",
            " 8   y        53940 non-null  float64\n",
            " 9   z        53940 non-null  float64\n",
            "dtypes: float64(6), int64(1), object(3)\n",
            "memory usage: 4.1+ MB\n"
          ],
          "name": "stdout"
        }
      ]
    },
    {
      "cell_type": "markdown",
      "metadata": {
        "id": "p0BHftvjhqLk"
      },
      "source": [
        "Plot bar chart of target labels."
      ]
    },
    {
      "cell_type": "code",
      "metadata": {
        "colab": {
          "base_uri": "https://localhost:8080/",
          "height": 307
        },
        "id": "nE_gqgh2g79t",
        "outputId": "54377bbd-50df-4dee-fb6b-22300261bee2"
      },
      "source": [
        "color = ['red', 'orange', 'green', 'blue', 'purple']\n",
        "df.cut.value_counts().plot(kind='bar', color=color);"
      ],
      "execution_count": 18,
      "outputs": [
        {
          "output_type": "display_data",
          "data": {
            "image/png": "[encoded data removed]",
            "text/plain": [
              "<Figure size 432x288 with 1 Axes>"
            ]
          },
          "metadata": {
            "tags": [],
            "needs_background": "light"
          }
        }
      ]
    },
    {
      "cell_type": "code",
      "metadata": {
        "colab": {
          "base_uri": "https://localhost:8080/",
          "height": 698
        },
        "id": "bMX2owXIhW28",
        "outputId": "690baa05-6e17-4d2a-f0d0-231d0742f0a5"
      },
      "source": [
        "df.hist(figsize=(16, 12));"
      ],
      "execution_count": 6,
      "outputs": [
        {
          "output_type": "display_data",
          "data": {
            "image/png": "[encoded data removed]",
            "text/plain": [
              "<Figure size 1152x864 with 9 Axes>"
            ]
          },
          "metadata": {
            "tags": [],
            "needs_background": "light"
          }
        }
      ]
    },
    {
      "cell_type": "code",
      "metadata": {
        "id": "kt_fKmbpy5mH"
      },
      "source": [
        "# Build feature/target arrays\n",
        "X, y = df.drop(\"cut\", axis=1), df[\"cut\"]\n",
        "\n",
        "# Create train/test sets\n",
        "X_train, X_test, y_train, y_test = train_test_split(X, y, random_state=11, \n",
        "                                                    test_size=0.33, stratify=y)"
      ],
      "execution_count": 7,
      "outputs": []
    },
    {
      "cell_type": "code",
      "metadata": {
        "id": "49790QLc1Guj"
      },
      "source": [
        "# Build categorical preprocessor\n",
        "categorical_cols = X.select_dtypes(include=\"object\").columns.to_list()\n",
        "categorical_pipe = make_pipeline(\n",
        "    OneHotEncoder(sparse=False, handle_unknown=\"ignore\")\n",
        "  )\n",
        "\n",
        "# Build numeric processor\n",
        "to_log = [\"price\", \"carat\"]\n",
        "to_scale = [\"x\", \"y\", \"z\", \"depth\", \"table\"]\n",
        "numeric_pipe_1 = make_pipeline(PowerTransformer())\n",
        "numeric_pipe_2 = make_pipeline(StandardScaler())\n",
        "\n",
        "# Full processor\n",
        "full = ColumnTransformer(\n",
        "    transformers=[\n",
        "        (\"categorical\", categorical_pipe, categorical_cols),\n",
        "        (\"power_transform\", numeric_pipe_1, to_log),\n",
        "        (\"standardization\", numeric_pipe_2, to_scale),\n",
        "    ]\n",
        ")\n",
        "\n",
        "# Final pipeline combined with RandomForest\n",
        "pipeline = Pipeline(\n",
        "    steps=[\n",
        "        (\"preprocess\", full),\n",
        "        (\n",
        "            \"base\",\n",
        "            RandomForestClassifier(max_depth=13),\n",
        "        ),\n",
        "    ]\n",
        ")\n",
        "\n",
        "# Fit\n",
        "_ = pipeline.fit(X_train, y_train)"
      ],
      "execution_count": 8,
      "outputs": []
    },
    {
      "cell_type": "markdown",
      "metadata": {
        "id": "HwYkUoDzmlzA"
      },
      "source": [
        "Plot confusion matrix."
      ]
    },
    {
      "cell_type": "code",
      "metadata": {
        "colab": {
          "base_uri": "https://localhost:8080/",
          "height": 279
        },
        "id": "0MRGf-dv1Wa1",
        "outputId": "b9de66e0-455e-4154-a33c-af3b8c179751"
      },
      "source": [
        "# Predict\n",
        "y_pred = pipeline.predict(X_test)\n",
        "\n",
        "plot_confusion_matrix(pipeline, X_test, y_test, \n",
        "                      values_format = '.5g') # .5g to suppress scientific notation\n",
        "plt.show()"
      ],
      "execution_count": 9,
      "outputs": [
        {
          "output_type": "display_data",
          "data": {
            "image/png": "[encoded data removed]",
            "text/plain": [
              "<Figure size 432x288 with 2 Axes>"
            ]
          },
          "metadata": {
            "tags": [],
            "needs_background": "light"
          }
        }
      ]
    },
    {
      "cell_type": "markdown",
      "metadata": {
        "id": "7bwttWeMv-fR"
      },
      "source": [
        "3 basic metrics:\n",
        "\n",
        "* **Precision**: what proportion of predicted Positives is truly Positive?\n",
        "* **Recall**: what proportion of actual Positives is correctly classified?\n",
        "* **Accuracy**: what proportion of both Positive and Negative were correctly classified? (Often, a misleading metric)\n",
        "* **F1 score**: harmonic mean of Precision and Recall, to trade-off both metrics\n",
        "\n",
        "Each class has these metrics. \n",
        "\n",
        "Then each class metric is averaged with 3 methods: \n",
        "\n",
        "* **Macro**: simple arithmetic mean, doesn't give any weight. Only for balanced class, for imbalanced class this is not accurate.\n",
        "* **Weighted**: harmonic mean, give weight by number of true classes\n",
        "* **Micro**: Similar to Accuracy, a misleading metric"
      ]
    },
    {
      "cell_type": "code",
      "metadata": {
        "colab": {
          "base_uri": "https://localhost:8080/"
        },
        "id": "mhT54W302AwO",
        "outputId": "aefad142-abb7-4bac-c592-5132916996ad"
      },
      "source": [
        "# Precision, recall, F1 score\n",
        "print(classification_report(y_test, y_pred))"
      ],
      "execution_count": 10,
      "outputs": [
        {
          "output_type": "stream",
          "text": [
            "              precision    recall  f1-score   support\n",
            "\n",
            "        Fair       0.90      0.82      0.86       532\n",
            "        Good       0.79      0.63      0.70      1619\n",
            "       Ideal       0.80      0.93      0.86      7112\n",
            "     Premium       0.68      0.86      0.76      4551\n",
            "   Very Good       0.72      0.36      0.48      3987\n",
            "\n",
            "    accuracy                           0.75     17801\n",
            "   macro avg       0.78      0.72      0.73     17801\n",
            "weighted avg       0.75      0.75      0.73     17801\n",
            "\n"
          ],
          "name": "stdout"
        }
      ]
    },
    {
      "cell_type": "code",
      "metadata": {
        "colab": {
          "base_uri": "https://localhost:8080/"
        },
        "id": "8kGl3YbxktJ4",
        "outputId": "e10472ec-3ae6-46ef-97ae-64d104b5040d"
      },
      "source": [
        "# Generate class membership probabilities\n",
        "y_pred_probs = pipeline.predict_proba(X_test)\n",
        "\n",
        "# Example prediction for observation no. 10\n",
        "no_obs = 3\n",
        "classes = ['Fair', 'Good', 'Ideal', 'Premium', 'Very Good']\n",
        "for i in range(len(classes)):\n",
        "  print(f'{classes[i]}: {y_pred_probs[no_obs-1][i]:.3f}')"
      ],
      "execution_count": 11,
      "outputs": [
        {
          "output_type": "stream",
          "text": [
            "Fair: 0.000\n",
            "Good: 0.004\n",
            "Ideal: 0.842\n",
            "Premium: 0.028\n",
            "Very Good: 0.126\n"
          ],
          "name": "stdout"
        }
      ]
    },
    {
      "cell_type": "markdown",
      "metadata": {
        "id": "cGFUyZcKoOZn"
      },
      "source": [
        "ROC AUC score."
      ]
    },
    {
      "cell_type": "code",
      "metadata": {
        "colab": {
          "base_uri": "https://localhost:8080/"
        },
        "id": "ZnregzHnnK1V",
        "outputId": "31da8ba0-3a34-4a22-d1d4-49fc1dda84ad"
      },
      "source": [
        "roc_auc_score(y_test, y_pred_probs, average=\"weighted\", multi_class=\"ovr\")"
      ],
      "execution_count": 12,
      "outputs": [
        {
          "output_type": "execute_result",
          "data": {
            "text/plain": [
              "0.9115387585517636"
            ]
          },
          "metadata": {
            "tags": []
          },
          "execution_count": 12
        }
      ]
    },
    {
      "cell_type": "code",
      "metadata": {
        "colab": {
          "base_uri": "https://localhost:8080/",
          "height": 295
        },
        "id": "DV6jYqU_g_4e",
        "outputId": "9bfa99b6-a45a-4172-9e11-552cdfe03f21"
      },
      "source": [
        "# For each class\n",
        "for i in range(len(classes)):\n",
        "  # Calculate False Positive Rate, True Negative Rate\n",
        "  fpr, tpr, thresholds = roc_curve(y_test, y_pred_probs[:,i], \n",
        "                                   pos_label = classes[i]) \n",
        "  \n",
        "  # Calculate AUC\n",
        "  auroc = auc(fpr, tpr)\n",
        "  \n",
        "  # Plot ROC AUC curve for each class\n",
        "  plt.plot(fpr, tpr, label=f'{classes[i]}, AUC: {auroc:.2f}')\n",
        "  plt.plot([0, 1], [0, 1], 'k--')\n",
        "\n",
        "plt.title('ROC AUC')\n",
        "plt.xlabel('FPR'); plt.ylabel('TPR')\n",
        "plt.xlim(0,1); plt.ylim(0,1)\n",
        "plt.legend()\n",
        "plt.show()"
      ],
      "execution_count": 13,
      "outputs": [
        {
          "output_type": "display_data",
          "data": {
            "image/png": "[encoded data removed]",
            "text/plain": [
              "<Figure size 432x288 with 1 Axes>"
            ]
          },
          "metadata": {
            "tags": [],
            "needs_background": "light"
          }
        }
      ]
    },
    {
      "cell_type": "markdown",
      "metadata": {
        "id": "nVpXrqf0oUhY"
      },
      "source": [
        "Cohen's Kappa score."
      ]
    },
    {
      "cell_type": "code",
      "metadata": {
        "colab": {
          "base_uri": "https://localhost:8080/"
        },
        "id": "eW53q3T1ncEY",
        "outputId": "78a5c9ba-41aa-44b4-a242-f29a05f02050"
      },
      "source": [
        "cohen_kappa_score(y_test, y_pred)"
      ],
      "execution_count": 14,
      "outputs": [
        {
          "output_type": "execute_result",
          "data": {
            "text/plain": [
              "0.6489668766616736"
            ]
          },
          "metadata": {
            "tags": []
          },
          "execution_count": 14
        }
      ]
    },
    {
      "cell_type": "markdown",
      "metadata": {
        "id": "zhtFH8booWgc"
      },
      "source": [
        "Matthew's Correlation Coefficient."
      ]
    },
    {
      "cell_type": "code",
      "metadata": {
        "colab": {
          "base_uri": "https://localhost:8080/"
        },
        "id": "hbta4VIwtSWO",
        "outputId": "6c62f706-4046-4af7-b845-6488191a98b8"
      },
      "source": [
        "matthews_corrcoef(y_test, y_pred)"
      ],
      "execution_count": 15,
      "outputs": [
        {
          "output_type": "execute_result",
          "data": {
            "text/plain": [
              "0.6600019456000756"
            ]
          },
          "metadata": {
            "tags": []
          },
          "execution_count": 15
        }
      ]
    },
    {
      "cell_type": "markdown",
      "metadata": {
        "id": "ltL8q7gBofpC"
      },
      "source": [
        "Log loss score."
      ]
    },
    {
      "cell_type": "code",
      "metadata": {
        "colab": {
          "base_uri": "https://localhost:8080/"
        },
        "id": "PO_hG0IUtqrs",
        "outputId": "09a1bd5d-5074-4242-d97b-c51450fa4be4"
      },
      "source": [
        "log_loss(y_test, y_pred_probs)"
      ],
      "execution_count": 16,
      "outputs": [
        {
          "output_type": "execute_result",
          "data": {
            "text/plain": [
              "0.6795797650637925"
            ]
          },
          "metadata": {
            "tags": []
          },
          "execution_count": 16
        }
      ]
    },
    {
      "cell_type": "markdown",
      "metadata": {
        "id": "fGMQ8Oqqopx4"
      },
      "source": [
        "How is each metric exactly used?\n",
        "\n",
        "* Compare one classifier’s overall performance to another in a single metric — use **Matthew’s correlation coefficient**, **Cohen’s kappa**, and **log loss**.\n",
        "* Measure a classifier’s ability to differentiate between each class in balanced classification: **ROC AUC score**\n",
        "* A metric that minimizes false positives and false negatives in imbalanced classification: **F1 score**\n",
        "* Focus on decreasing the false positives of a single class: **Precision** for that class\n",
        "* Focus on decreasing the false negatives of a single class: **Recall** for that class.\n",
        "\n"
      ]
    },
    {
      "cell_type": "markdown",
      "metadata": {
        "id": "9VphFeDJl54V"
      },
      "source": [
        "References:\n",
        "* All in one: Precision, Recall, Accuracy, F1 score, Cohen Kappa, Matthew's correlation, and log loss: \n",
        "  * https://towardsdatascience.com/comprehensive-guide-on-multiclass-classification-metrics-af94cfb83fbd\n",
        "  * https://towardsdatascience.com/comprehensive-guide-to-multiclass-classification-with-sklearn-127cc500f362\n",
        "\n",
        "* Other resources:\n",
        "  * Concepts about Precision, Recall, Accuracy: https://towardsdatascience.com/multi-class-metrics-made-simple-part-i-precision-and-recall-9250280bddc2\n",
        "  * Concept about F1 score and averaging (weighted/macro/micro): https://towardsdatascience.com/multi-class-metrics-made-simple-part-ii-the-f1-score-ebe8b2c2ca1\n",
        "  * Concept about Cohen Kappa: https://towardsdatascience.com/multi-class-metrics-made-simple-the-kappa-score-aka-cohens-kappa-coefficient-bdea137af09c\n",
        "\n",
        "\n"
      ]
    }
  ]
}